{
 "cells": [
  {
   "cell_type": "code",
   "metadata": {
    "collapsed": false,
    "jupyter": {
     "outputs_hidden": false
    },
    "ExecuteTime": {
     "end_time": "2024-04-10T23:00:10.235825Z",
     "start_time": "2024-04-10T23:00:10.234103Z"
    }
   },
   "source": [
    "import sys\n",
    "sys.path.insert(1, \"./src\")"
   ],
   "execution_count": 1,
   "outputs": []
  },
  {
   "cell_type": "code",
   "metadata": {
    "collapsed": false,
    "jupyter": {
     "outputs_hidden": false
    },
    "ExecuteTime": {
     "end_time": "2024-04-10T23:00:11.526919Z",
     "start_time": "2024-04-10T23:00:10.236206Z"
    }
   },
   "source": [
    "from pathlib import Path\n",
    "import yaml\n",
    "import pytorch_lightning as pl\n",
    "from torch.utils.data import DataLoader\n",
    "from transformers import set_seed\n",
    "\n",
    "\n",
    "from datasets.ner_dataset import get_ner_dataset\n",
    "from models.bert_model import PretrainedBertNER\n",
    "from utils.ner_metrics import Statistics\n",
    "from utils.log_reader import TensorBoardReader\n",
    "from anonymization.ref_book import ReferenceBookAnonymization"
   ],
   "execution_count": 2,
   "outputs": []
  },
  {
   "cell_type": "code",
   "metadata": {
    "collapsed": false,
    "jupyter": {
     "outputs_hidden": false
    },
    "ExecuteTime": {
     "end_time": "2024-04-10T23:00:11.530104Z",
     "start_time": "2024-04-10T23:00:11.527865Z"
    }
   },
   "source": [
    "set_seed(42)"
   ],
   "execution_count": 3,
   "outputs": []
  },
  {
   "cell_type": "code",
   "metadata": {
    "collapsed": false,
    "jupyter": {
     "outputs_hidden": false
    },
    "ExecuteTime": {
     "end_time": "2024-04-10T23:00:11.557125Z",
     "start_time": "2024-04-10T23:00:11.530516Z"
    }
   },
   "source": [
    "# Data config initialisation\n",
    "i2b2_2006_data_config = yaml.load(open(\"configs/i2b2-2006_data_config.yaml\", 'r'), Loader=yaml.Loader)\n",
    "i2b2_2014_data_config = yaml.load(open(\"configs/i2b2-2014_data_config.yaml\", 'r'), Loader=yaml.Loader)"
   ],
   "execution_count": 4,
   "outputs": []
  },
  {
   "cell_type": "code",
   "metadata": {
    "collapsed": false,
    "jupyter": {
     "outputs_hidden": false
    },
    "ExecuteTime": {
     "end_time": "2024-04-10T23:00:11.583015Z",
     "start_time": "2024-04-10T23:00:11.557863Z"
    }
   },
   "source": [
    "# Model config initialisation\n",
    "bert_base_model_config = yaml.load(open(\"configs/bert-base_model_config.yaml\", 'r'), Loader=yaml.Loader)\n",
    "bert_large_model_config = yaml.load(open(\"configs/bert-large_model_config.yaml\", 'r'), Loader=yaml.Loader)"
   ],
   "execution_count": 5,
   "outputs": []
  },
  {
   "cell_type": "code",
   "metadata": {
    "collapsed": false,
    "jupyter": {
     "outputs_hidden": false
    },
    "ExecuteTime": {
     "end_time": "2024-04-10T23:00:11.608397Z",
     "start_time": "2024-04-10T23:00:11.583488Z"
    }
   },
   "source": [
    "# Anonymization config initialisation\n",
    "anon_config = yaml.load(open(\"configs/ref_book_anonymization_config.yaml\", 'r'), Loader=yaml.Loader)"
   ],
   "execution_count": 6,
   "outputs": []
  },
  {
   "cell_type": "markdown",
   "metadata": {},
   "source": [
    "### Структура сохранённых моделей:\n",
    "1. В ```./bert-base/lightning_logs/``` должны храниться модели, основанные на базовом предобученном BERT\n",
    "    1. Version 0 --- обученная на нетронутом тренировочном наборе данных i2b2 2006 с учётом регистра\n",
    "    2. Version 1 --- обученная на нетронутом тренировочном наборе данных i2b2 2006 без учёта регистра\n",
    "    3. Version 2 --- обученная на нетронутом тренировочном наборе данных i2b2 2014 с учётом регистра\n",
    "    4. Version 3 --- обученная на нетронутом тренировочном наборе данных i2b2 2014 без учёта регистра\n",
    "2. В ```./bert-large/lightning_logs/``` должны храниться модели, основанные на большом предобученном BERT\n",
    "    1. Version 0 --- обученная на нетронутом тренировочном наборе данных i2b2 2006 с учётом регистра\n",
    "    2. Version 1 --- обученная на нетронутом тренировочном наборе данных i2b2 2006 без учёта регистра\n",
    "    3. Version 2 --- обученная на нетронутом тренировочном наборе данных i2b2 2014 с учётом регистра\n",
    "    4. Version 3 --- обученная на нетронутом тренировочном наборе данных i2b2 2014 без учёта регистра\n",
    "    5. Version 4 --- обученная на анонимизированном с помощью справочников наборе данных i2b2 2014 без учёта регистра\n",
    "    6. Version 5 --- обученная на анонимизированном с помощью GPT2 валидационном наборе данных i2b2 2014 без учёта регистра, GPT2 обучено на тренировочном наборе данных i2b2 2014 \n",
    "    7. Version 6 --- обученная на анонимизированном с помощью GPT2 тренировочном наборе данных i2b2 2006 без учёта регистра, GPT2 обучено на тренировочном наборе данных i2b2 2014 \n",
    "    8. Version 7 --- обученная на нетронутом валидационном наборе данных i2b2 2014 без учёта регистра"
   ]
  },
  {
   "cell_type": "markdown",
   "metadata": {
    "tags": []
   },
   "source": [
    "### Этап 1: Демонстрация качества искусственных примеров личных сущностей\n",
    "Правдоподобность искусственных примеров будет оцениваться по метрикам их определения лучшей NER моделью --- BERT-large-uncased, дообученной на i2b2 2014"
   ]
  },
  {
   "cell_type": "code",
   "metadata": {
    "collapsed": false,
    "jupyter": {
     "outputs_hidden": false
    },
    "ExecuteTime": {
     "end_time": "2024-04-10T23:00:11.638658Z",
     "start_time": "2024-04-10T23:00:11.608956Z"
    }
   },
   "source": [
    "# Инициализация алгоритма генерации искусственных сущностей на основе справочника\n",
    "anonymization = ReferenceBookAnonymization(**anon_config, other_label=i2b2_2014_data_config['other_label'])"
   ],
   "execution_count": 7,
   "outputs": []
  },
  {
   "cell_type": "code",
   "metadata": {
    "ExecuteTime": {
     "end_time": "2024-04-10T23:00:16.078607Z",
     "start_time": "2024-04-10T23:00:11.639894Z"
    }
   },
   "source": [
    "# Инициализация обезличенного тестового датасета\n",
    "test_dataset = get_ner_dataset(path_to_folder=i2b2_2014_data_config[\"validate_data_path\"],\n",
    "                               anonymization=anonymization, **i2b2_2014_data_config)\n",
    "test_dataloader = DataLoader(test_dataset, shuffle=False,\n",
    "                             batch_size=i2b2_2014_data_config[\"batch_size\"],\n",
    "                             collate_fn=test_dataset.get_collate_fn(),\n",
    "                             num_workers=10,\n",
    "                             pin_memory=False,\n",
    "                             persistent_workers=True)"
   ],
   "execution_count": 8,
   "outputs": []
  },
  {
   "cell_type": "code",
   "metadata": {
    "ExecuteTime": {
     "end_time": "2024-04-10T23:00:18.037872Z",
     "start_time": "2024-04-10T23:00:16.079278Z"
    }
   },
   "source": [
    "# Инициализация модели\n",
    "t_reader = TensorBoardReader(Path(bert_large_model_config[\"log_dir\"]) / Path(\"lightning_logs\"))\n",
    "ner_model = PretrainedBertNER.load_from_checkpoint(t_reader.get_ckpt_path(3))"
   ],
   "execution_count": 9,
   "outputs": []
  },
  {
   "cell_type": "code",
   "metadata": {
    "ExecuteTime": {
     "end_time": "2024-04-10T23:00:50.269861Z",
     "start_time": "2024-04-10T23:00:18.038479Z"
    }
   },
   "source": [
    "# Тестирование\n",
    "trainer_args = {\n",
    "    \"accelerator\": \"gpu\",\n",
    "    \"logger\": False\n",
    "}\n",
    "trainer = pl.Trainer(**trainer_args, enable_progress_bar=True)\n",
    "trainer.test(ner_model, test_dataloader)"
   ],
   "execution_count": 10,
   "outputs": []
  },
  {
   "cell_type": "code",
   "metadata": {
    "ExecuteTime": {
     "end_time": "2024-04-10T23:01:25.232520Z",
     "start_time": "2024-04-10T23:00:50.270592Z"
    }
   },
   "source": [
    "# Метрики\n",
    "stats = Statistics(ner_model, test_dataloader)\n",
    "print(stats.get_classification_report())\n",
    "stats.plot_confusion_matrix()\n",
    "stats.print_random_failed_predictions()"
   ],
   "execution_count": 11,
   "outputs": []
  },
  {
   "cell_type": "code",
   "metadata": {
    "ExecuteTime": {
     "end_time": "2024-04-10T23:01:25.285393Z",
     "start_time": "2024-04-10T23:01:25.234119Z"
    }
   },
   "source": [
    "faults = stats.get_specific_failed_predictions('LOCATION')"
   ],
   "execution_count": 12,
   "outputs": []
  },
  {
   "cell_type": "markdown",
   "metadata": {},
   "source": [
    "**Вывод:**  \n",
    "В целом все метки предсказываются с точностью, близко к аналогичной у первоначальных сущностей. Самое низкое качество распознавания у модели оказалось для класса 'LOCATION', предположительно, из-за слишком длинных названий больниц в используемом справочнике. Однако в первых версиях генератора синтетических данных присутствовали проблемы с меткой 'CONTACT'. Основная трудность для модели заключалась в предсказании номеров телефонов, если их генерация использовала российский стиль их написания. Тогда модель определяла его, как уникальный идентификатор. Проблема была решена сменной формата номера.  \n",
    "  \n",
    "Как видно, в оригинальных данных не используется код страны, и цифры сгруппированы отлично от распространённого российского варианта.  \n",
    "Запись **347-03**  \n",
    "Original:  (121) 537-3484  \n",
    "Russian format: +1 933 257-12-32  \n",
    "Запись **314-02**  \n",
    "Original:  (676) 312-7662  \n",
    "Russian format: +1 995 672-52-24  \n",
    "  \n",
    "Ещё один вариант записи номера телефона в оригинальных данных: \"665-578-7821\""
   ]
  },
  {
   "cell_type": "markdown",
   "metadata": {
    "tags": []
   },
   "source": [
    "### Этап 2: Обучение модели на анонимизированных данных"
   ]
  },
  {
   "cell_type": "code",
   "metadata": {
    "collapsed": false,
    "jupyter": {
     "outputs_hidden": false
    },
    "ExecuteTime": {
     "end_time": "2024-04-10T23:01:50.886858Z",
     "start_time": "2024-04-10T23:01:50.622913Z"
    }
   },
   "source": [
    "t_reader = TensorBoardReader(Path(bert_large_model_config[\"log_dir\"]) / Path(\"lightning_logs\"))\n",
    "t_reader.plot_ner_tensorboard_graphics(4)"
   ],
   "execution_count": 14,
   "outputs": []
  },
  {
   "cell_type": "markdown",
   "metadata": {},
   "source": [
    "Из обучения взята модель с лучшим показателем в метрике recall без учёта класса 'other'. Посмотрим на её метрики на валидационных данных."
   ]
  },
  {
   "cell_type": "code",
   "metadata": {
    "collapsed": false,
    "jupyter": {
     "outputs_hidden": false
    },
    "ExecuteTime": {
     "end_time": "2024-04-10T23:02:41.250684Z",
     "start_time": "2024-04-10T23:02:37.459335Z"
    }
   },
   "source": [
    "# Data processing\n",
    "test_dataset = get_ner_dataset(path_to_folder=i2b2_2014_data_config[\"validate_data_path\"],\n",
    "                               **i2b2_2014_data_config)\n",
    "test_dataloader = DataLoader(test_dataset, shuffle=False,\n",
    "                             batch_size=i2b2_2014_data_config[\"batch_size\"],\n",
    "                             collate_fn=test_dataset.get_collate_fn())"
   ],
   "execution_count": 15,
   "outputs": []
  },
  {
   "cell_type": "code",
   "metadata": {
    "collapsed": false,
    "jupyter": {
     "outputs_hidden": false
    },
    "ExecuteTime": {
     "end_time": "2024-04-10T23:02:43.257177Z",
     "start_time": "2024-04-10T23:02:41.251709Z"
    }
   },
   "source": [
    "# Model initialisation\n",
    "path_to_checkpoint = t_reader.get_ckpt_path(4)\n",
    "ner_model = PretrainedBertNER.load_from_checkpoint(path_to_checkpoint)\n",
    "print(ner_model)"
   ],
   "execution_count": 16,
   "outputs": []
  },
  {
   "cell_type": "code",
   "metadata": {
    "collapsed": false,
    "jupyter": {
     "outputs_hidden": false
    },
    "ExecuteTime": {
     "end_time": "2024-04-10T23:03:12.310073Z",
     "start_time": "2024-04-10T23:02:43.257811Z"
    }
   },
   "source": [
    "# Testing\n",
    "trainer_args = {\n",
    "    \"accelerator\": \"gpu\",\n",
    "    \"logger\": False\n",
    "}\n",
    "trainer = pl.Trainer(**trainer_args, enable_progress_bar=True)\n",
    "trainer.test(ner_model, test_dataloader)"
   ],
   "execution_count": 17,
   "outputs": []
  },
  {
   "cell_type": "code",
   "metadata": {
    "collapsed": false,
    "jupyter": {
     "outputs_hidden": false
    },
    "ExecuteTime": {
     "end_time": "2024-04-10T23:03:43.099828Z",
     "start_time": "2024-04-10T23:03:12.310751Z"
    }
   },
   "source": [
    "# Print metrics\n",
    "stats = Statistics(ner_model, test_dataloader)\n",
    "print(stats.get_classification_report())\n",
    "stats.plot_confusion_matrix()\n",
    "stats.print_random_failed_predictions()"
   ],
   "execution_count": 18,
   "outputs": []
  },
  {
   "cell_type": "markdown",
   "metadata": {},
   "source": [
    "**Вывод:**  \n",
    "Заметим, что из-за малого разнообразия формата данных наблюдается переобучение модели после $6$-ой эпохи. Также общее качество работы модели заметно уменьшилось до Recall $=78.71\\%$. При этом модель часто принимала класс 'ID' за 'CONTACT', так как искусственно сгенерированные идентификаторы представляют собой непрерываемый поток цифр. Самое же большое падение качества наблюдается в распознавании идентификаторов и имён. Приведём примеры их ошибок, связанных в основном с малым количеством форматов у синтетических данных:"
   ]
  },
  {
   "cell_type": "code",
   "metadata": {
    "ExecuteTime": {
     "end_time": "2024-04-10T23:03:43.152826Z",
     "start_time": "2024-04-10T23:03:43.100425Z"
    }
   },
   "source": "stats.get_specific_failed_predictions('NAME')",
   "execution_count": 19,
   "outputs": []
  },
  {
   "cell_type": "code",
   "metadata": {
    "ExecuteTime": {
     "end_time": "2024-04-10T23:03:43.214037Z",
     "start_time": "2024-04-10T23:03:43.153269Z"
    }
   },
   "source": "stats.get_specific_failed_predictions('ID')",
   "execution_count": 20,
   "outputs": []
  }
 ],
 "metadata": {
  "kernelspec": {
   "display_name": "Python 3 (ipykernel)",
   "language": "python",
   "name": "python3"
  },
  "language_info": {
   "codemirror_mode": {
    "name": "ipython",
    "version": 3
   },
   "file_extension": ".py",
   "mimetype": "text/x-python",
   "name": "python",
   "nbconvert_exporter": "python",
   "pygments_lexer": "ipython3",
   "version": "3.10.13"
  },
  "toc-showtags": false
 },
 "nbformat": 4,
 "nbformat_minor": 4
}
