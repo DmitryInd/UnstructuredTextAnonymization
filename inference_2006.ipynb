{
 "cells": [
  {
   "cell_type": "code",
   "execution_count": 1,
   "id": "7ce1bc35-d5fb-4874-b572-ab08cd6ac86c",
   "metadata": {
    "ExecuteTime": {
     "end_time": "2023-06-06T13:19:52.169068186Z",
     "start_time": "2023-06-06T13:19:52.168952760Z"
    },
    "collapsed": false,
    "jupyter": {
     "outputs_hidden": false
    }
   },
   "source": [
    "import sys\n",
    "sys.path.insert(1, \"./src\")"
   ],
   "outputs": []
  },
  {
   "cell_type": "code",
   "execution_count": 2,
   "id": "22866ee5-3850-47b6-91f9-f5f77344c17f",
   "metadata": {
    "ExecuteTime": {
     "end_time": "2023-06-06T13:19:53.421451204Z",
     "start_time": "2023-06-06T13:19:52.169023297Z"
    },
    "collapsed": false,
    "jupyter": {
     "outputs_hidden": false
    }
   },
   "source": [
    "from pathlib import Path\n",
    "import yaml\n",
    "import pytorch_lightning as pl\n",
    "from torch.utils.data import DataLoader\n",
    "from transformers import set_seed\n",
    "\n",
    "\n",
    "from datasets.ner_dataset import get_ner_dataset\n",
    "from models.bert_model import PretrainedBertNER\n",
    "from utils.ner_metrics import Statistics\n",
    "from utils.log_reader import TensorBoardReader\n",
    "from anonymization.ref_book import ReferenceBookAnonymization"
   ],
   "outputs": []
  },
  {
   "cell_type": "code",
   "execution_count": 3,
   "id": "c9c7babd-7d3d-4f77-b43d-1d492ea40639",
   "metadata": {
    "ExecuteTime": {
     "end_time": "2023-06-06T13:19:53.424491782Z",
     "start_time": "2023-06-06T13:19:53.422505720Z"
    },
    "collapsed": false,
    "jupyter": {
     "outputs_hidden": false
    }
   },
   "source": [
    "set_seed(42)"
   ],
   "outputs": []
  },
  {
   "cell_type": "code",
   "execution_count": 4,
   "id": "d11f1f52-d8c4-4bb1-ad3c-257918ab2cc3",
   "metadata": {
    "ExecuteTime": {
     "end_time": "2023-06-06T13:19:53.459600681Z",
     "start_time": "2023-06-06T13:19:53.425610029Z"
    },
    "collapsed": false,
    "jupyter": {
     "outputs_hidden": false
    }
   },
   "source": [
    "# Data config initialisation\n",
    "i2b2_2006_data_config = yaml.load(open(\"configs/i2b2-2006_data_config.yaml\", 'r'), Loader=yaml.Loader)\n",
    "i2b2_2014_data_config = yaml.load(open(\"configs/i2b2-2014_data_config.yaml\", 'r'), Loader=yaml.Loader)"
   ],
   "outputs": []
  },
  {
   "cell_type": "code",
   "execution_count": 5,
   "id": "40308492-72bd-445c-9c3b-a3a9add87c1b",
   "metadata": {
    "ExecuteTime": {
     "end_time": "2023-06-06T13:19:53.495073535Z",
     "start_time": "2023-06-06T13:19:53.460336564Z"
    },
    "collapsed": false,
    "jupyter": {
     "outputs_hidden": false
    }
   },
   "source": [
    "# Model config initialisation\n",
    "bert_base_model_config = yaml.load(open(\"configs/bert-base_model_config.yaml\", 'r'), Loader=yaml.Loader)\n",
    "bert_large_model_config = yaml.load(open(\"configs/bert-large_model_config.yaml\", 'r'), Loader=yaml.Loader)"
   ],
   "outputs": []
  },
  {
   "cell_type": "code",
   "execution_count": 6,
   "id": "d0e7c47f-e76f-4af9-8c95-4d3c004d0b16",
   "metadata": {
    "ExecuteTime": {
     "end_time": "2023-06-06T13:19:53.530587598Z",
     "start_time": "2023-06-06T13:19:53.484872754Z"
    },
    "collapsed": false,
    "jupyter": {
     "outputs_hidden": false
    }
   },
   "source": [
    "# Anonymization config initialisation\n",
    "anon_config = yaml.load(open(\"configs/ref_book_anonymization_config.yaml\", 'r'), Loader=yaml.Loader)"
   ],
   "outputs": []
  },
  {
   "cell_type": "markdown",
   "id": "aca64a84-7b17-4426-a7db-6ba3764849c5",
   "metadata": {},
   "source": [
    "### Структура сохранённых моделей:\n",
    "1. В ```./bert-base/lightning_logs/``` должны храниться модели, основанные на базовом предобученном BERT\n",
    "    1. Version 0 --- обученная на нетронутом тренировочном наборе данных i2b2 2006 с учётом регистра\n",
    "    2. Version 1 --- обученная на нетронутом тренировочном наборе данных i2b2 2006 без учёта регистра\n",
    "    3. Version 2 --- обученная на нетронутом тренировочном наборе данных i2b2 2014 с учётом регистра\n",
    "    4. Version 3 --- обученная на нетронутом тренировочном наборе данных i2b2 2014 без учёта регистра\n",
    "2. В ```./bert-large/lightning_logs/``` должны храниться модели, основанные на большом предобученном BERT\n",
    "    1. Version 0 --- обученная на нетронутом тренировочном наборе данных i2b2 2006 с учётом регистра\n",
    "    2. Version 1 --- обученная на нетронутом тренировочном наборе данных i2b2 2006 без учёта регистра\n",
    "    3. Version 2 --- обученная на нетронутом тренировочном наборе данных i2b2 2014 с учётом регистра\n",
    "    4. Version 3 --- обученная на нетронутом тренировочном наборе данных i2b2 2014 без учёта регистра\n",
    "    5. Version 4 --- обученная на анонимизированном с помощью справочников наборе данных i2b2 2014 без учёта регистра\n",
    "    6. Version 5 --- обученная на анонимизированном с помощью GPT2 валидационном наборе данных i2b2 2014 без учёта регистра, GPT2 обучено на тренировочном наборе данных i2b2 2014 \n",
    "    7. Version 6 --- обученная на анонимизированном с помощью GPT2 тренировочном наборе данных i2b2 2006 без учёта регистра, GPT2 обучено на тренировочном наборе данных i2b2 2014 \n",
    "    8. Version 7 --- обученная на нетронутом валидационном наборе данных i2b2 2014 без учёта регистра"
   ]
  },
  {
   "cell_type": "markdown",
   "id": "357cc3b3-e3d3-4e35-a091-ac7c595d4bc1",
   "metadata": {
    "tags": []
   },
   "source": [
    "### Этап 1: Демонстрация результатов на наборе данных i2b2 2006\n",
    "Демонстрация включает в себя измерение метрик Recall, Precision и $F_1$ score для следующий моделей:\n",
    "* BERT-base-cased\n",
    "* BERT-base-uncased\n",
    "* BERT-large-cased\n",
    "* BERT-large-uncased"
   ]
  },
  {
   "cell_type": "markdown",
   "id": "672ce5c3-02ec-44c1-a926-6d3c96368c4b",
   "metadata": {
    "jp-MarkdownHeadingCollapsed": true,
    "tags": []
   },
   "source": [
    "#### BERT-base-cased"
   ]
  },
  {
   "cell_type": "markdown",
   "id": "39aed847-be60-4483-bc65-b36198709cb2",
   "metadata": {},
   "source": [
    "Графики обучения:\n",
    "(Метрика recall посчитана без учёта класса 'other', отвечающего за неличные сущности)."
   ]
  },
  {
   "cell_type": "code",
   "execution_count": 7,
   "id": "60b1f8a2-5521-424a-9cac-ec6b5a5915cf",
   "metadata": {
    "ExecuteTime": {
     "end_time": "2023-06-06T13:19:53.817548736Z",
     "start_time": "2023-06-06T13:19:53.525632982Z"
    },
    "collapsed": false,
    "jupyter": {
     "outputs_hidden": false
    }
   },
   "source": [
    "t_reader = TensorBoardReader(Path(bert_base_model_config[\"log_dir\"]) / Path(\"lightning_logs\"))\n",
    "t_reader.plot_ner_tensorboard_graphics(0)"
   ],
   "outputs": []
  },
  {
   "cell_type": "markdown",
   "id": "12dc1b6e-a1fd-4549-916b-e7de09113f0d",
   "metadata": {},
   "source": [
    "Из обучения взята модель с лучшим показателем в метрике recall без учёта класса 'other'. Посмотрим на её метрики на валидационных данных."
   ]
  },
  {
   "cell_type": "code",
   "execution_count": 8,
   "id": "28371e7d-541a-4d79-9754-ef2a8c44c05c",
   "metadata": {
    "ExecuteTime": {
     "end_time": "2023-06-06T13:19:55.340921935Z",
     "start_time": "2023-06-06T13:19:53.824155935Z"
    },
    "collapsed": false,
    "jupyter": {
     "outputs_hidden": false
    }
   },
   "source": [
    "# Data processing\n",
    "test_dataset = get_ner_dataset(dataset_type=i2b2_2006_data_config['dataset_type'],\n",
    "                               path_to_folder=i2b2_2006_data_config[\"validate_data_path\"],\n",
    "                               is_uncased=False,\n",
    "                               pretrained_tokenizer=\"bert-base-cased\",\n",
    "                               max_length=i2b2_2014_data_config[\"max_token_number\"],\n",
    "                               eq_max_padding=i2b2_2014_data_config[\"eq_max_padding\"])\n",
    "test_dataloader = DataLoader(test_dataset, shuffle=False,\n",
    "                             batch_size=i2b2_2014_data_config[\"batch_size\"],\n",
    "                             collate_fn=test_dataset.get_collate_fn())"
   ],
   "outputs": []
  },
  {
   "cell_type": "code",
   "execution_count": 9,
   "id": "f31906d2-99ce-4cce-9946-27f4ae9525e3",
   "metadata": {
    "ExecuteTime": {
     "end_time": "2023-06-06T13:19:56.625587364Z",
     "start_time": "2023-06-06T13:19:55.342050549Z"
    },
    "collapsed": false,
    "jupyter": {
     "outputs_hidden": false
    }
   },
   "source": [
    "# Model initialisation\n",
    "path_to_checkpoint = t_reader.get_ckpt_path(0)\n",
    "ner_model = PretrainedBertNER.load_from_checkpoint(path_to_checkpoint)\n",
    "print(ner_model)"
   ],
   "outputs": []
  },
  {
   "cell_type": "code",
   "execution_count": 10,
   "id": "29c8977c-c921-43bf-b0cf-61a18b19e099",
   "metadata": {
    "ExecuteTime": {
     "end_time": "2023-06-06T13:20:01.898212803Z",
     "start_time": "2023-06-06T13:19:56.626952353Z"
    },
    "collapsed": false,
    "jupyter": {
     "outputs_hidden": false
    }
   },
   "source": [
    "# Testing\n",
    "trainer_args = {\n",
    "    \"accelerator\": \"gpu\",\n",
    "    \"logger\": False\n",
    "}\n",
    "trainer = pl.Trainer(**trainer_args, enable_progress_bar=True)\n",
    "trainer.test(ner_model, test_dataloader)"
   ],
   "outputs": []
  },
  {
   "cell_type": "code",
   "execution_count": 11,
   "id": "78bdd4f1-0f44-4a4c-87e1-03892621c0eb",
   "metadata": {
    "ExecuteTime": {
     "end_time": "2023-06-06T13:20:09.119956802Z",
     "start_time": "2023-06-06T13:20:01.899226436Z"
    },
    "collapsed": false,
    "jupyter": {
     "outputs_hidden": false
    }
   },
   "source": [
    "# Print metrics\n",
    "stats = Statistics(ner_model, test_dataloader)\n",
    "print(stats.get_classification_report())\n",
    "stats.plot_confusion_matrix()\n",
    "stats.print_random_failed_predictions()"
   ],
   "outputs": []
  },
  {
   "cell_type": "markdown",
   "id": "b18f68fe-b2c4-4ec5-a200-af4d3b4c341f",
   "metadata": {
    "jp-MarkdownHeadingCollapsed": true,
    "tags": []
   },
   "source": [
    "#### BERT-base-uncased"
   ]
  },
  {
   "cell_type": "markdown",
   "id": "fcabbcd4-4af5-4652-831b-02460729e6b3",
   "metadata": {},
   "source": [
    "Графики обучения:\n",
    "(Метрика recall посчитана без учёта класса 'other', отвечающего за неличные сущности)."
   ]
  },
  {
   "cell_type": "code",
   "execution_count": 12,
   "id": "73148edb-daec-4c77-b874-168a9419016f",
   "metadata": {
    "ExecuteTime": {
     "end_time": "2023-06-06T13:20:09.312400235Z",
     "start_time": "2023-06-06T13:20:09.109262534Z"
    },
    "collapsed": false,
    "jupyter": {
     "outputs_hidden": false
    }
   },
   "source": [
    "t_reader = TensorBoardReader(Path(bert_base_model_config[\"log_dir\"]) / Path(\"lightning_logs\"))\n",
    "t_reader.plot_ner_tensorboard_graphics(1)"
   ],
   "outputs": []
  },
  {
   "cell_type": "markdown",
   "id": "2d658187-3551-4921-8f50-75b5bf65b0d6",
   "metadata": {},
   "source": [
    "Из обучения взята модель с лучшим показателем в метрике recall без учёта класса 'other'. Посмотрим на её метрики на валидационных данных."
   ]
  },
  {
   "cell_type": "code",
   "execution_count": 13,
   "id": "c2373e90-46d2-476f-8ab6-858ea72912c4",
   "metadata": {
    "ExecuteTime": {
     "end_time": "2023-06-06T13:20:11.260088608Z",
     "start_time": "2023-06-06T13:20:09.322178227Z"
    },
    "collapsed": false,
    "jupyter": {
     "outputs_hidden": false
    }
   },
   "source": [
    "# Data processing\n",
    "test_dataset = get_ner_dataset(dataset_type=i2b2_2006_data_config['dataset_type'],\n",
    "                               path_to_folder=i2b2_2006_data_config[\"validate_data_path\"],\n",
    "                               is_uncased=True,\n",
    "                               pretrained_tokenizer=\"bert-large-uncased\",\n",
    "                               max_length=i2b2_2014_data_config[\"max_token_number\"],\n",
    "                               eq_max_padding=i2b2_2014_data_config[\"eq_max_padding\"])\n",
    "test_dataloader = DataLoader(test_dataset, shuffle=False,\n",
    "                             batch_size=i2b2_2014_data_config[\"batch_size\"],\n",
    "                             collate_fn=test_dataset.get_collate_fn())"
   ],
   "outputs": []
  },
  {
   "cell_type": "code",
   "execution_count": 14,
   "id": "9e119e75-0e60-48fe-afdb-d0c2a794e255",
   "metadata": {
    "ExecuteTime": {
     "end_time": "2023-06-06T13:20:12.169063595Z",
     "start_time": "2023-06-06T13:20:11.261616505Z"
    },
    "collapsed": false,
    "jupyter": {
     "outputs_hidden": false
    }
   },
   "source": [
    "# Model initialisation\n",
    "path_to_checkpoint = t_reader.get_ckpt_path(1)\n",
    "ner_model = PretrainedBertNER.load_from_checkpoint(path_to_checkpoint)\n",
    "print(ner_model)"
   ],
   "outputs": []
  },
  {
   "cell_type": "code",
   "execution_count": 15,
   "id": "938ecd8a-095d-453c-b35f-911d48847d91",
   "metadata": {
    "ExecuteTime": {
     "end_time": "2023-06-06T13:20:16.652406004Z",
     "start_time": "2023-06-06T13:20:12.170439149Z"
    },
    "collapsed": false,
    "jupyter": {
     "outputs_hidden": false
    }
   },
   "source": [
    "# Testing\n",
    "trainer_args = {\n",
    "    \"accelerator\": \"gpu\",\n",
    "    \"logger\": False\n",
    "}\n",
    "trainer = pl.Trainer(**trainer_args, enable_progress_bar=True)\n",
    "trainer.test(ner_model, test_dataloader)"
   ],
   "outputs": []
  },
  {
   "cell_type": "code",
   "execution_count": 16,
   "id": "a3d70bbc-364b-42f6-a22f-75d8ea926c65",
   "metadata": {
    "ExecuteTime": {
     "end_time": "2023-06-06T13:20:22.940172140Z",
     "start_time": "2023-06-06T13:20:16.653434405Z"
    },
    "collapsed": false,
    "jupyter": {
     "outputs_hidden": false
    }
   },
   "source": [
    "# Print metrics\n",
    "stats = Statistics(ner_model, test_dataloader)\n",
    "print(stats.get_classification_report())\n",
    "stats.plot_confusion_matrix()\n",
    "stats.print_random_failed_predictions()"
   ],
   "outputs": []
  },
  {
   "cell_type": "markdown",
   "id": "342584ee-d9b4-4b6b-9e9d-95456668d5bf",
   "metadata": {
    "jp-MarkdownHeadingCollapsed": true,
    "tags": []
   },
   "source": [
    "#### BERT-large-cased"
   ]
  },
  {
   "cell_type": "markdown",
   "id": "9bafd3bb-5620-4148-8277-08e618441720",
   "metadata": {},
   "source": [
    "Графики обучения:\n",
    "(Метрика recall посчитана без учёта класса 'other', отвечающего за неличные сущности)."
   ]
  },
  {
   "cell_type": "code",
   "execution_count": 17,
   "id": "12e80662-9ea5-4459-91d9-41670e3a145b",
   "metadata": {
    "ExecuteTime": {
     "end_time": "2023-06-06T13:20:23.210359928Z",
     "start_time": "2023-06-06T13:20:22.975565410Z"
    },
    "collapsed": false,
    "jupyter": {
     "outputs_hidden": false
    }
   },
   "source": [
    "t_reader = TensorBoardReader(Path(bert_large_model_config[\"log_dir\"]) / Path(\"lightning_logs\"))\n",
    "t_reader.plot_ner_tensorboard_graphics(0)"
   ],
   "outputs": []
  },
  {
   "cell_type": "markdown",
   "id": "7cd2b357-a686-4eef-8862-cdcea7b0488e",
   "metadata": {},
   "source": [
    "Из обучения взята модель с лучшим показателем в метрике recall без учёта класса 'other'. Посмотрим на её метрики на валидационных данных."
   ]
  },
  {
   "cell_type": "code",
   "execution_count": 18,
   "id": "eb5fc40f-4d96-4cb1-8dd2-589b02bf2c5d",
   "metadata": {
    "ExecuteTime": {
     "end_time": "2023-06-06T13:20:24.705573066Z",
     "start_time": "2023-06-06T13:20:23.211347748Z"
    },
    "collapsed": false,
    "jupyter": {
     "outputs_hidden": false
    }
   },
   "source": [
    "# Data processing\n",
    "test_dataset = get_ner_dataset(dataset_type=i2b2_2006_data_config['dataset_type'],\n",
    "                               path_to_folder=i2b2_2006_data_config[\"validate_data_path\"],\n",
    "                               is_uncased=False,\n",
    "                               pretrained_tokenizer=\"bert-large-cased\",\n",
    "                               max_length=i2b2_2014_data_config[\"max_token_number\"],\n",
    "                               eq_max_padding=i2b2_2014_data_config[\"eq_max_padding\"])\n",
    "test_dataloader = DataLoader(test_dataset, shuffle=False,\n",
    "                             batch_size=i2b2_2014_data_config[\"batch_size\"],\n",
    "                             collate_fn=test_dataset.get_collate_fn())"
   ],
   "outputs": []
  },
  {
   "cell_type": "code",
   "execution_count": 19,
   "id": "bc42610c-d0d3-47d9-803f-e5453003a77a",
   "metadata": {
    "ExecuteTime": {
     "end_time": "2023-06-06T13:20:27.171998341Z",
     "start_time": "2023-06-06T13:20:24.706893975Z"
    },
    "collapsed": false,
    "jupyter": {
     "outputs_hidden": false
    }
   },
   "source": [
    "# Model initialisation\n",
    "path_to_checkpoint = t_reader.get_ckpt_path(0)\n",
    "ner_model = PretrainedBertNER.load_from_checkpoint(path_to_checkpoint)\n",
    "print(ner_model)"
   ],
   "outputs": []
  },
  {
   "cell_type": "code",
   "execution_count": 20,
   "id": "7d01c62c-3a0b-4cd4-aef5-06d6b123b60b",
   "metadata": {
    "ExecuteTime": {
     "end_time": "2023-06-06T13:20:42.229101644Z",
     "start_time": "2023-06-06T13:20:27.173506327Z"
    },
    "collapsed": false,
    "jupyter": {
     "outputs_hidden": false
    }
   },
   "source": [
    "# Testing\n",
    "trainer_args = {\n",
    "    \"accelerator\": \"gpu\",\n",
    "    \"logger\": False\n",
    "}\n",
    "trainer = pl.Trainer(**trainer_args, enable_progress_bar=True)\n",
    "trainer.test(ner_model, test_dataloader)"
   ],
   "outputs": []
  },
  {
   "cell_type": "code",
   "execution_count": 21,
   "id": "854feaef-cd42-4b5c-b02a-49d5da65f425",
   "metadata": {
    "ExecuteTime": {
     "end_time": "2023-06-06T13:20:59.214800389Z",
     "start_time": "2023-06-06T13:20:42.229022760Z"
    },
    "collapsed": false,
    "jupyter": {
     "outputs_hidden": false
    }
   },
   "source": [
    "# Print metrics\n",
    "stats = Statistics(ner_model, test_dataloader)\n",
    "print(stats.get_classification_report())\n",
    "stats.plot_confusion_matrix()\n",
    "stats.print_random_failed_predictions()"
   ],
   "outputs": []
  },
  {
   "cell_type": "markdown",
   "id": "8b950313-709c-4535-8b84-717f66fbcde1",
   "metadata": {
    "tags": []
   },
   "source": [
    "#### BERT-large-uncased"
   ]
  },
  {
   "cell_type": "markdown",
   "id": "100c56b2-9515-4c3c-b881-bee7bdd48ef5",
   "metadata": {},
   "source": [
    "Графики обучения:\n",
    "(Метрика recall посчитана без учёта класса 'other', отвечающего за неличные сущности)."
   ]
  },
  {
   "cell_type": "code",
   "execution_count": 8,
   "id": "ba419330-300c-4d39-b5ad-ca4fcd9961a9",
   "metadata": {
    "ExecuteTime": {
     "end_time": "2023-06-06T13:20:59.420546631Z",
     "start_time": "2023-06-06T13:20:59.215837341Z"
    },
    "collapsed": false,
    "jupyter": {
     "outputs_hidden": false
    }
   },
   "source": [
    "t_reader = TensorBoardReader(Path(bert_large_model_config[\"log_dir\"]) / Path(\"lightning_logs\"))\n",
    "t_reader.plot_ner_tensorboard_graphics(1)"
   ],
   "outputs": []
  },
  {
   "cell_type": "markdown",
   "id": "b2ba77f5-1a51-4d5b-9b00-ea3b3ea71bf0",
   "metadata": {},
   "source": [
    "Из обучения взята модель с лучшим показателем в метрике recall без учёта класса 'other'. Посмотрим на её метрики на валидационных данных."
   ]
  },
  {
   "cell_type": "code",
   "execution_count": 10,
   "id": "2eb3f19c-7b0a-447a-bbbe-ef2c08afdb95",
   "metadata": {
    "ExecuteTime": {
     "end_time": "2023-06-06T13:21:01.131391168Z",
     "start_time": "2023-06-06T13:20:59.421390448Z"
    },
    "collapsed": false,
    "jupyter": {
     "outputs_hidden": false
    }
   },
   "source": [
    "# Data processing\n",
    "test_dataset = get_ner_dataset(dataset_type=i2b2_2006_data_config['dataset_type'],\n",
    "                               path_to_folder=i2b2_2006_data_config[\"validate_data_path\"],\n",
    "                               is_uncased=True,\n",
    "                               pretrained_tokenizer=\"bert-large-cased\",\n",
    "                               max_length=i2b2_2014_data_config[\"max_token_number\"],\n",
    "                               eq_max_padding=i2b2_2014_data_config[\"eq_max_padding\"])\n",
    "test_dataloader = DataLoader(test_dataset, shuffle=False,\n",
    "                             batch_size=i2b2_2006_data_config[\"batch_size\"],\n",
    "                             collate_fn=test_dataset.get_collate_fn(),\n",
    "                             num_workers=10,\n",
    "                             pin_memory=False,\n",
    "                             persistent_workers=True)"
   ],
   "outputs": []
  },
  {
   "cell_type": "code",
   "execution_count": 11,
   "id": "3e96c621-8472-40ff-ae16-8751ee520b80",
   "metadata": {
    "ExecuteTime": {
     "end_time": "2023-06-06T13:21:04.328789107Z",
     "start_time": "2023-06-06T13:21:01.132140137Z"
    },
    "collapsed": false,
    "jupyter": {
     "outputs_hidden": false
    }
   },
   "source": [
    "# Model initialisation\n",
    "path_to_checkpoint = t_reader.get_ckpt_path(1)\n",
    "ner_model = PretrainedBertNER.load_from_checkpoint(path_to_checkpoint)\n",
    "print(ner_model)"
   ],
   "outputs": []
  },
  {
   "cell_type": "code",
   "execution_count": 12,
   "id": "49203d0c-3662-4eb0-a2e1-cc96627b7256",
   "metadata": {
    "ExecuteTime": {
     "end_time": "2023-06-06T13:21:15.910647340Z",
     "start_time": "2023-06-06T13:21:04.329935913Z"
    },
    "collapsed": false,
    "jupyter": {
     "outputs_hidden": false
    }
   },
   "source": [
    "# Testing\n",
    "trainer_args = {\n",
    "    \"accelerator\": \"gpu\",\n",
    "    \"logger\": False\n",
    "}\n",
    "trainer = pl.Trainer(**trainer_args, enable_progress_bar=True)\n",
    "trainer.test(ner_model, test_dataloader)"
   ],
   "outputs": []
  },
  {
   "cell_type": "code",
   "execution_count": 13,
   "id": "36b865f6-0e19-4b0c-be75-fdc984e1f2e0",
   "metadata": {
    "ExecuteTime": {
     "end_time": "2023-06-06T13:21:29.250031529Z",
     "start_time": "2023-06-06T13:21:15.911599249Z"
    },
    "collapsed": false,
    "jupyter": {
     "outputs_hidden": false
    }
   },
   "source": [
    "# Print metrics\n",
    "stats = Statistics(ner_model, test_dataloader)\n",
    "print(stats.get_classification_report())\n",
    "stats.plot_confusion_matrix()\n",
    "stats.print_random_failed_predictions()"
   ],
   "outputs": []
  },
  {
   "cell_type": "markdown",
   "id": "97271dd3-0b03-4a76-b528-5811ff30dfca",
   "metadata": {},
   "source": [
    "**Вывод:**  \n",
    "Recall предсказания класса превышает $98\\%$ для всех меток кроме 'AGE' в свзязи с его малым представлением в выборке (51 токен). Самый низкая точность распознования среди остальных, классов касается метки 'LOCATION'. При этом стоит отметить, что хотя класс 'CONTACT' в обучающей выборке представлен хуже 'LOCATION', из-за фиксированного формата его записи модель распознает данный класс успешннее."
   ]
  }
 ],
 "metadata": {
  "kernelspec": {
   "display_name": "Python 3 (ipykernel)",
   "language": "python",
   "name": "python3"
  },
  "language_info": {
   "codemirror_mode": {
    "name": "ipython",
    "version": 3
   },
   "file_extension": ".py",
   "mimetype": "text/x-python",
   "name": "python",
   "nbconvert_exporter": "python",
   "pygments_lexer": "ipython3",
   "version": "3.10.13"
  }
 },
 "nbformat": 4,
 "nbformat_minor": 5
}
