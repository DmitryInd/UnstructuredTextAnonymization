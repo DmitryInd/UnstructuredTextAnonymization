{
 "cells": [
  {
   "cell_type": "code",
   "execution_count": 1,
   "id": "3fc5f7d5-f301-484c-8cd3-a70dc20ec5ee",
   "metadata": {
    "ExecuteTime": {
     "end_time": "2023-06-06T16:52:38.971918995Z",
     "start_time": "2023-06-06T16:52:38.971158523Z"
    },
    "collapsed": false,
    "jupyter": {
     "outputs_hidden": false
    }
   },
   "source": [
    "import sys\n",
    "sys.path.insert(1, \"./src\")"
   ],
   "outputs": []
  },
  {
   "cell_type": "code",
   "execution_count": 2,
   "id": "f965a4db-bd2f-407f-8984-7c565f705177",
   "metadata": {
    "ExecuteTime": {
     "end_time": "2023-06-06T16:52:39.953449822Z",
     "start_time": "2023-06-06T16:52:38.972477395Z"
    },
    "collapsed": false,
    "jupyter": {
     "outputs_hidden": false
    }
   },
   "source": [
    "from pathlib import Path\n",
    "import yaml\n",
    "import pytorch_lightning as pl\n",
    "from torch.utils.data import DataLoader\n",
    "from transformers import set_seed\n",
    "\n",
    "\n",
    "from datasets.ner_dataset import get_ner_dataset\n",
    "from models.bert_model import PretrainedBertNER\n",
    "from utils.ner_metrics import Statistics\n",
    "from utils.log_reader import TensorBoardReader\n",
    "from anonymization.ref_book import ReferenceBookAnonymization"
   ],
   "outputs": []
  },
  {
   "cell_type": "code",
   "execution_count": 3,
   "id": "e87d5b02-579c-494e-b401-1d17ae72a6a5",
   "metadata": {
    "ExecuteTime": {
     "end_time": "2023-06-06T16:52:39.956086161Z",
     "start_time": "2023-06-06T16:52:39.954558844Z"
    },
    "collapsed": false,
    "jupyter": {
     "outputs_hidden": false
    }
   },
   "source": [
    "set_seed(42)"
   ],
   "outputs": []
  },
  {
   "cell_type": "code",
   "execution_count": 4,
   "id": "ddbac895-6732-431f-9811-0cc4c925cbeb",
   "metadata": {
    "ExecuteTime": {
     "end_time": "2023-06-06T16:52:39.982227578Z",
     "start_time": "2023-06-06T16:52:39.956812758Z"
    },
    "collapsed": false,
    "jupyter": {
     "outputs_hidden": false
    }
   },
   "source": [
    "# Data config initialisation\n",
    "i2b2_2006_data_config = yaml.load(open(\"configs/i2b2-2006_data_config.yaml\", 'r'), Loader=yaml.Loader)\n",
    "i2b2_2014_data_config = yaml.load(open(\"configs/i2b2-2014_data_config.yaml\", 'r'), Loader=yaml.Loader)"
   ],
   "outputs": []
  },
  {
   "cell_type": "code",
   "execution_count": 5,
   "id": "2cd18ece-7880-4e7b-9eb3-bcb8494780ce",
   "metadata": {
    "ExecuteTime": {
     "end_time": "2023-06-06T16:52:40.010689509Z",
     "start_time": "2023-06-06T16:52:39.982697224Z"
    },
    "collapsed": false,
    "jupyter": {
     "outputs_hidden": false
    }
   },
   "source": [
    "# Model config initialisation\n",
    "bert_base_model_config = yaml.load(open(\"configs/bert-base_model_config.yaml\", 'r'), Loader=yaml.Loader)\n",
    "bert_large_model_config = yaml.load(open(\"configs/bert-large_model_config.yaml\", 'r'), Loader=yaml.Loader)"
   ],
   "outputs": []
  },
  {
   "cell_type": "code",
   "execution_count": 6,
   "id": "fa5e04f0-c525-48fe-8f8f-b5f712ffbaa1",
   "metadata": {
    "ExecuteTime": {
     "end_time": "2023-06-06T16:52:40.035313094Z",
     "start_time": "2023-06-06T16:52:40.010990402Z"
    },
    "collapsed": false,
    "jupyter": {
     "outputs_hidden": false
    }
   },
   "source": [
    "# Anonymization config initialisation\n",
    "anon_config = yaml.load(open(\"configs/ref_book_anonymization_config.yaml\", 'r'), Loader=yaml.Loader)"
   ],
   "outputs": []
  },
  {
   "cell_type": "markdown",
   "id": "91b2cc4b-efb0-42f5-ab93-72192e2d1844",
   "metadata": {},
   "source": [
    "### Структура сохранённых моделей:\n",
    "1. В ```./bert-base/lightning_logs/``` должны храниться модели, основанные на базовом предобученном BERT\n",
    "    1. Version 0 --- обученная на нетронутом тренировочном наборе данных i2b2 2006 с учётом регистра\n",
    "    2. Version 1 --- обученная на нетронутом тренировочном наборе данных i2b2 2006 без учёта регистра\n",
    "    3. Version 2 --- обученная на нетронутом тренировочном наборе данных i2b2 2014 с учётом регистра\n",
    "    4. Version 3 --- обученная на нетронутом тренировочном наборе данных i2b2 2014 без учёта регистра\n",
    "2. В ```./bert-large/lightning_logs/``` должны храниться модели, основанные на большом предобученном BERT\n",
    "    1. Version 0 --- обученная на нетронутом тренировочном наборе данных i2b2 2006 с учётом регистра\n",
    "    2. Version 1 --- обученная на нетронутом тренировочном наборе данных i2b2 2006 без учёта регистра\n",
    "    3. Version 2 --- обученная на нетронутом тренировочном наборе данных i2b2 2014 с учётом регистра\n",
    "    4. Version 3 --- обученаая на нетронутом тренировочном наборе данных i2b2 2014 без учёта регистра\n",
    "    5. Version 4 --- обученная на анонимизированном с помощью справочников наборе данных i2b2 2014 без учёта регистра\n",
    "    6. Version 5 --- обученная на анонимизированном с помощью GPT2 валидационном наборе данных i2b2 2014 без учёта регистра, GPT2 обучено на тренировочном наборе данных i2b2 2014 \n",
    "    7. Version 6 --- обученная на анонимизированном с помощью GPT2 тренировочном наборе данных i2b2 2006 без учёта регистра, GPT2 обучено на тренировочном наборе данных i2b2 2014 \n",
    "    8. Version 7 --- обученная на нетронутом валидационном наборе данных i2b2 2014 без учёта регистра"
   ]
  },
  {
   "cell_type": "markdown",
   "id": "9f01de34-b129-460a-a4ea-ff9bdacc8d5d",
   "metadata": {
    "tags": []
   },
   "source": [
    "### Этап 1: Сравнение результатов на наборе данных i2b2 2014\n",
    "Сравнение будет включает в себя измерение метрик Recall, Precision и $F_1$ score для следующий моделей:\n",
    "* BERT-base-cased\n",
    "* BERT-base-uncased\n",
    "* BERT-large-cased\n",
    "* BERT-large-uncased\n",
    "* BERT-large-uncased, но тренировочная и валидационная выборки поменяны местами"
   ]
  },
  {
   "cell_type": "markdown",
   "id": "51dcad13-66b4-4e45-9944-d34207cdbe5b",
   "metadata": {
    "jp-MarkdownHeadingCollapsed": true,
    "tags": []
   },
   "source": [
    "#### BERT-base-cased"
   ]
  },
  {
   "cell_type": "markdown",
   "id": "28924ad3-d916-4fae-9e61-932d313e8778",
   "metadata": {},
   "source": [
    "Графики обучения:\n",
    "(Метрика recall посчитана без учёта класса 'other', отвечающего за неличные сущности)."
   ]
  },
  {
   "cell_type": "code",
   "execution_count": 7,
   "id": "53f29732-317c-4808-acbc-58248f04a8b5",
   "metadata": {
    "ExecuteTime": {
     "end_time": "2023-06-06T16:52:40.363281515Z",
     "start_time": "2023-06-06T16:52:40.077722579Z"
    },
    "collapsed": false,
    "jupyter": {
     "outputs_hidden": false
    }
   },
   "source": [
    "t_reader = TensorBoardReader(Path(bert_base_model_config[\"log_dir\"]) / Path(\"lightning_logs\"))\n",
    "t_reader.plot_tensorboard_graphics(2)"
   ],
   "outputs": []
  },
  {
   "cell_type": "markdown",
   "id": "ffc4a7e0-fb1a-4f7d-9ba7-38e3a69edf8c",
   "metadata": {},
   "source": [
    "Из обучения взята модель с лучшим показателем в метрике recall без учёта класса 'other'. Посмотрим на её метрики на валидационных данных."
   ]
  },
  {
   "cell_type": "code",
   "execution_count": 8,
   "id": "0544a46a-d988-40d2-b126-b6fbae264ac8",
   "metadata": {
    "ExecuteTime": {
     "end_time": "2023-06-06T16:52:43.411296038Z",
     "start_time": "2023-06-06T16:52:40.363415694Z"
    },
    "collapsed": false,
    "jupyter": {
     "outputs_hidden": false
    }
   },
   "source": [
    "# Data processing\n",
    "test_dataset = get_ner_dataset(data_type=i2b2_2014_data_config['val_data_type'],\n",
    "                               path_to_folder=i2b2_2014_data_config[\"validate_data_path\"],\n",
    "                               is_uncased=False,\n",
    "                               pretrained_tokenizer=\"bert-base-cased\",\n",
    "                               max_length=i2b2_2014_data_config[\"max_token_number\"],\n",
    "                               eq_max_padding=i2b2_2014_data_config[\"eq_max_padding\"])\n",
    "test_dataloader = DataLoader(test_dataset, shuffle=False,\n",
    "                             batch_size=i2b2_2014_data_config[\"batch_size\"],\n",
    "                             collate_fn=test_dataset.get_collate_fn())"
   ],
   "outputs": []
  },
  {
   "cell_type": "code",
   "execution_count": 9,
   "id": "d40b9bb6-eb45-4ea3-b5c9-c56a1d282aff",
   "metadata": {
    "ExecuteTime": {
     "end_time": "2023-06-06T16:52:44.453667906Z",
     "start_time": "2023-06-06T16:52:43.412843335Z"
    },
    "collapsed": false,
    "jupyter": {
     "outputs_hidden": false
    }
   },
   "source": [
    "# Model initialisation\n",
    "path_to_checkpoint = t_reader.get_ckpt_path(2)\n",
    "ner_model = PretrainedBertNER.load_from_checkpoint(path_to_checkpoint)\n",
    "print(ner_model)"
   ],
   "outputs": []
  },
  {
   "cell_type": "code",
   "execution_count": 10,
   "id": "1b0f5c42-f8bf-424e-ba05-d58880da818f",
   "metadata": {
    "ExecuteTime": {
     "end_time": "2023-06-06T16:52:57.711270641Z",
     "start_time": "2023-06-06T16:52:44.455281764Z"
    },
    "collapsed": false,
    "jupyter": {
     "outputs_hidden": false
    }
   },
   "source": [
    "# Testing\n",
    "trainer_args = {\n",
    "    \"accelerator\": \"gpu\",\n",
    "    \"logger\": False\n",
    "}\n",
    "trainer = pl.Trainer(**trainer_args, enable_progress_bar=True)\n",
    "trainer.test(ner_model, test_dataloader)"
   ],
   "outputs": []
  },
  {
   "cell_type": "code",
   "execution_count": 11,
   "id": "6f60bfa8-3635-4cb9-9da2-12a16c5d17cc",
   "metadata": {
    "ExecuteTime": {
     "end_time": "2023-06-06T16:53:14.611156430Z",
     "start_time": "2023-06-06T16:52:57.711081184Z"
    },
    "collapsed": false,
    "jupyter": {
     "outputs_hidden": false
    },
    "slideshow": {
     "slide_type": "slide"
    },
    "tags": []
   },
   "source": [
    "# Print metrics\n",
    "stats = Statistics(ner_model, test_dataloader)\n",
    "print(stats.get_classification_report())\n",
    "stats.plot_confusion_matrix()\n",
    "stats.print_random_failed_predictions()"
   ],
   "outputs": []
  },
  {
   "cell_type": "markdown",
   "id": "58219710-aecf-4f3b-9f3f-dd327197b439",
   "metadata": {
    "jp-MarkdownHeadingCollapsed": true,
    "tags": []
   },
   "source": [
    "#### BERT-base-uncased"
   ]
  },
  {
   "cell_type": "markdown",
   "id": "c372577d-a4c2-474f-b5f3-2498e56c292f",
   "metadata": {},
   "source": [
    "Графики обучения:\n",
    "(Метрика recall посчитана без учёта класса 'other', отвечающего за неличные сущности)."
   ]
  },
  {
   "cell_type": "code",
   "execution_count": 12,
   "id": "1ca60d09-d318-4c80-aaf6-2aefac605e92",
   "metadata": {
    "ExecuteTime": {
     "end_time": "2023-06-06T16:53:14.863586685Z",
     "start_time": "2023-06-06T16:53:14.611249054Z"
    },
    "collapsed": false,
    "jupyter": {
     "outputs_hidden": false
    }
   },
   "source": [
    "t_reader = TensorBoardReader(Path(bert_base_model_config[\"log_dir\"]) / Path(\"lightning_logs\"))\n",
    "t_reader.plot_tensorboard_graphics(3)"
   ],
   "outputs": []
  },
  {
   "cell_type": "markdown",
   "id": "74f4d8ed-9e48-40df-8c40-d44fd303941c",
   "metadata": {},
   "source": [
    "Из обучения взята модель с лучшим показателем в метрике recall без учёта класса 'other'. Посмотрим на её метрики на валидационных данных."
   ]
  },
  {
   "cell_type": "code",
   "execution_count": 13,
   "id": "b4d59155-396d-4dfc-be79-9819dad5edd1",
   "metadata": {
    "ExecuteTime": {
     "end_time": "2023-06-06T16:53:18.641952752Z",
     "start_time": "2023-06-06T16:53:14.864359190Z"
    },
    "collapsed": false,
    "jupyter": {
     "outputs_hidden": false
    }
   },
   "source": [
    "# Data processing\n",
    "test_dataset = get_ner_dataset(data_type=i2b2_2014_data_config['val_data_type'],\n",
    "                               path_to_folder=i2b2_2014_data_config[\"validate_data_path\"],\n",
    "                               is_uncased=True,\n",
    "                               pretrained_tokenizer=\"bert-base-uncased\",\n",
    "                               max_length=i2b2_2014_data_config[\"max_token_number\"],\n",
    "                               eq_max_padding=i2b2_2014_data_config[\"eq_max_padding\"])\n",
    "test_dataloader = DataLoader(test_dataset, shuffle=False,\n",
    "                             batch_size=i2b2_2014_data_config[\"batch_size\"],\n",
    "                             collate_fn=test_dataset.get_collate_fn())"
   ],
   "outputs": []
  },
  {
   "cell_type": "code",
   "execution_count": 14,
   "id": "55b6e3c5-70e1-4e72-a15b-fb427a68af85",
   "metadata": {
    "ExecuteTime": {
     "end_time": "2023-06-06T16:53:19.530004071Z",
     "start_time": "2023-06-06T16:53:18.643466066Z"
    },
    "collapsed": false,
    "jupyter": {
     "outputs_hidden": false
    }
   },
   "source": [
    "# Model initialisation\n",
    "path_to_checkpoint = t_reader.get_ckpt_path(3)\n",
    "ner_model = PretrainedBertNER.load_from_checkpoint(path_to_checkpoint)\n",
    "print(ner_model)"
   ],
   "outputs": []
  },
  {
   "cell_type": "code",
   "execution_count": 15,
   "id": "1f8d0e8b-dfaa-4b58-98af-78011439ac3e",
   "metadata": {
    "ExecuteTime": {
     "end_time": "2023-06-06T16:53:29.101228495Z",
     "start_time": "2023-06-06T16:53:19.531031900Z"
    },
    "collapsed": false,
    "jupyter": {
     "outputs_hidden": false
    }
   },
   "source": [
    "# Testing\n",
    "trainer_args = {\n",
    "    \"accelerator\": \"gpu\",\n",
    "    \"logger\": False\n",
    "}\n",
    "trainer = pl.Trainer(**trainer_args, enable_progress_bar=True)\n",
    "trainer.test(ner_model, test_dataloader)"
   ],
   "outputs": []
  },
  {
   "cell_type": "code",
   "execution_count": 16,
   "id": "db868cf2-8766-4ce0-9c7e-767caa4aaa52",
   "metadata": {
    "ExecuteTime": {
     "end_time": "2023-06-06T16:53:43.284544871Z",
     "start_time": "2023-06-06T16:53:29.101069187Z"
    },
    "collapsed": false,
    "jupyter": {
     "outputs_hidden": false
    }
   },
   "source": [
    "# Print metrics\n",
    "stats = Statistics(ner_model, test_dataloader)\n",
    "print(stats.get_classification_report())\n",
    "stats.plot_confusion_matrix()\n",
    "stats.print_random_failed_predictions()"
   ],
   "outputs": []
  },
  {
   "cell_type": "markdown",
   "id": "f7b7e8cf-9376-4468-ad2b-5d2a42e0790a",
   "metadata": {},
   "source": [
    "Так как в изначальной статье подробно рассмотрено только предсказание модели BERT-base-uncased, в данной работе будет разобрана именно она.  \n",
    "**Вывод:**  \n",
    "Все классы кроме \"PROFESSION\" предсказываются с $Recall > 90\\%$. Предположительно, это происходит из-за слабого представления класса в обучающей выборке (830 токенов). Для точности далее рассмотрены примеры ошибок его распознавания.  \n",
    "Объявленную теорию также подтверждает точность предсказания класса 'CONTACT', который представлен хуже всех остальных классов кроме 'PROFESSION': такой же порядок сохраняется и в метрике Recall предсказния меток.  \n",
    "Стоит отметить, что большинство ошибок модели связано не с путанием классов защищённых сущностей, а с их полным нераспознаванием."
   ]
  },
  {
   "cell_type": "code",
   "execution_count": 17,
   "id": "7ec9eb2b-076f-46e4-b684-5e2b1b7ba1f6",
   "metadata": {
    "ExecuteTime": {
     "end_time": "2023-06-06T16:53:43.303981778Z",
     "start_time": "2023-06-06T16:53:43.284629890Z"
    }
   },
   "source": [
    "faults = stats.get_specific_failed_predictions('PROFESSION')"
   ],
   "outputs": []
  },
  {
   "cell_type": "markdown",
   "id": "5ee89a29",
   "metadata": {
    "jp-MarkdownHeadingCollapsed": true,
    "tags": []
   },
   "source": [
    "#### BERT-large-cased"
   ]
  },
  {
   "cell_type": "markdown",
   "id": "3aeb73e4",
   "metadata": {},
   "source": [
    "Графики обучения:\n",
    "(Метрика recall посчитана без учёта класса 'other', отвечающего за неличные сущности)."
   ]
  },
  {
   "cell_type": "code",
   "execution_count": 18,
   "id": "20643a67",
   "metadata": {
    "ExecuteTime": {
     "end_time": "2023-06-06T16:53:43.599065970Z",
     "start_time": "2023-06-06T16:53:43.304968949Z"
    },
    "collapsed": false,
    "jupyter": {
     "outputs_hidden": false
    }
   },
   "source": [
    "t_reader = TensorBoardReader(Path(bert_large_model_config[\"log_dir\"]) / Path(\"lightning_logs\"))\n",
    "t_reader.plot_tensorboard_graphics(2)"
   ],
   "outputs": []
  },
  {
   "cell_type": "markdown",
   "id": "8b3e6b61",
   "metadata": {},
   "source": [
    "Из обучения взята модель с лучшим показателем в метрике recall без учёта класса 'other'. Посмотрим на её метрики на валидационных данных."
   ]
  },
  {
   "cell_type": "code",
   "execution_count": 19,
   "id": "baae9712",
   "metadata": {
    "ExecuteTime": {
     "end_time": "2023-06-06T16:53:46.628844477Z",
     "start_time": "2023-06-06T16:53:43.599934230Z"
    },
    "collapsed": false,
    "jupyter": {
     "outputs_hidden": false
    }
   },
   "source": [
    "# Data processing\n",
    "test_dataset = get_ner_dataset(data_type=i2b2_2014_data_config['val_data_type'],\n",
    "                               path_to_folder=i2b2_2014_data_config[\"validate_data_path\"],\n",
    "                               is_uncased=False,\n",
    "                               pretrained_tokenizer=\"bert-large-cased\",\n",
    "                               max_length=i2b2_2014_data_config[\"max_token_number\"],\n",
    "                               eq_max_padding=i2b2_2014_data_config[\"eq_max_padding\"])\n",
    "test_dataloader = DataLoader(test_dataset, shuffle=False,\n",
    "                             batch_size=i2b2_2014_data_config[\"batch_size\"],\n",
    "                             collate_fn=test_dataset.get_collate_fn())"
   ],
   "outputs": []
  },
  {
   "cell_type": "code",
   "execution_count": 20,
   "id": "cde8bafd",
   "metadata": {
    "ExecuteTime": {
     "end_time": "2023-06-06T16:53:49.100316803Z",
     "start_time": "2023-06-06T16:53:46.629377424Z"
    },
    "collapsed": false,
    "jupyter": {
     "outputs_hidden": false
    }
   },
   "source": [
    "# Model initialisation\n",
    "path_to_checkpoint = t_reader.get_ckpt_path(2)\n",
    "ner_model = PretrainedBertNER.load_from_checkpoint(path_to_checkpoint)\n",
    "print(ner_model)"
   ],
   "outputs": []
  },
  {
   "cell_type": "code",
   "execution_count": 21,
   "id": "9fabca38",
   "metadata": {
    "ExecuteTime": {
     "end_time": "2023-06-06T16:54:20.805572427Z",
     "start_time": "2023-06-06T16:53:49.101798652Z"
    },
    "collapsed": false,
    "jupyter": {
     "outputs_hidden": false
    }
   },
   "source": [
    "# Testing\n",
    "trainer_args = {\n",
    "    \"accelerator\": \"gpu\",\n",
    "    \"logger\": False\n",
    "}\n",
    "trainer = pl.Trainer(**trainer_args, enable_progress_bar=True)\n",
    "trainer.test(ner_model, test_dataloader)"
   ],
   "outputs": []
  },
  {
   "cell_type": "code",
   "execution_count": 22,
   "id": "19977754",
   "metadata": {
    "ExecuteTime": {
     "end_time": "2023-06-06T16:54:58.384608895Z",
     "start_time": "2023-06-06T16:54:20.806614201Z"
    },
    "collapsed": false,
    "jupyter": {
     "outputs_hidden": false
    }
   },
   "source": [
    "# Print metrics\n",
    "stats = Statistics(ner_model, test_dataloader)\n",
    "print(stats.get_classification_report())\n",
    "stats.plot_confusion_matrix()\n",
    "stats.print_random_failed_predictions()"
   ],
   "outputs": []
  },
  {
   "cell_type": "markdown",
   "id": "c51e3ca6",
   "metadata": {
    "tags": []
   },
   "source": [
    "#### BERT-large-uncased"
   ]
  },
  {
   "cell_type": "markdown",
   "id": "f89825ba",
   "metadata": {},
   "source": [
    "Графики обучения:\n",
    "(Метрика recall посчитана без учёта класса 'other', отвечающего за неличные сущности)."
   ]
  },
  {
   "cell_type": "code",
   "execution_count": 12,
   "id": "da85789b",
   "metadata": {
    "ExecuteTime": {
     "end_time": "2023-06-06T16:54:58.648652230Z",
     "start_time": "2023-06-06T16:54:58.384439393Z"
    },
    "collapsed": false,
    "jupyter": {
     "outputs_hidden": false
    }
   },
   "source": [
    "t_reader = TensorBoardReader(Path(bert_large_model_config[\"log_dir\"]) / Path(\"lightning_logs\"))\n",
    "t_reader.plot_ner_tensorboard_graphics(3)"
   ],
   "outputs": []
  },
  {
   "cell_type": "markdown",
   "id": "0c5170ee",
   "metadata": {},
   "source": [
    "Из обучения взята модель с лучшим показателем в метрике recall без учёта класса 'other'. Посмотрим на её метрики на валидационных данных."
   ]
  },
  {
   "cell_type": "code",
   "execution_count": 13,
   "id": "98577adf",
   "metadata": {
    "ExecuteTime": {
     "end_time": "2023-06-06T16:55:02.329895780Z",
     "start_time": "2023-06-06T16:54:58.649265027Z"
    },
    "collapsed": false,
    "jupyter": {
     "outputs_hidden": false
    }
   },
   "source": [
    "# Data processing\n",
    "test_dataset = get_ner_dataset(path_to_folder=i2b2_2014_data_config[\"validate_data_path\"], device='cpu', **i2b2_2014_data_config)\n",
    "test_dataloader = DataLoader(test_dataset, shuffle=False,\n",
    "                             batch_size=i2b2_2014_data_config[\"batch_size\"],\n",
    "                             collate_fn=test_dataset.get_collate_fn(),\n",
    "                             num_workers=10,\n",
    "                             pin_memory=False,\n",
    "                             persistent_workers=True)"
   ],
   "outputs": []
  },
  {
   "cell_type": "code",
   "execution_count": 14,
   "id": "8eb4f7a2",
   "metadata": {
    "ExecuteTime": {
     "end_time": "2023-06-06T16:55:05.197624549Z",
     "start_time": "2023-06-06T16:55:02.330191923Z"
    },
    "collapsed": false,
    "jupyter": {
     "outputs_hidden": false
    }
   },
   "source": [
    "# Model initialisation\n",
    "path_to_checkpoint = t_reader.get_ckpt_path(3)\n",
    "ner_model = PretrainedBertNER.load_from_checkpoint(path_to_checkpoint)\n",
    "print(ner_model)"
   ],
   "outputs": []
  },
  {
   "cell_type": "code",
   "execution_count": 15,
   "id": "52872b17",
   "metadata": {
    "ExecuteTime": {
     "end_time": "2023-06-06T16:55:34.326198947Z",
     "start_time": "2023-06-06T16:55:05.199633629Z"
    },
    "collapsed": false,
    "jupyter": {
     "outputs_hidden": false
    }
   },
   "source": [
    "# Testing\n",
    "trainer_args = {\n",
    "    \"accelerator\": \"gpu\",\n",
    "    \"logger\": False\n",
    "}\n",
    "trainer = pl.Trainer(**trainer_args, enable_progress_bar=True)\n",
    "trainer.test(ner_model, test_dataloader)"
   ],
   "outputs": []
  },
  {
   "cell_type": "code",
   "execution_count": 16,
   "id": "50881666",
   "metadata": {
    "ExecuteTime": {
     "end_time": "2023-06-06T16:56:06.674508019Z",
     "start_time": "2023-06-06T16:55:34.327098968Z"
    },
    "collapsed": false,
    "jupyter": {
     "outputs_hidden": false
    }
   },
   "source": [
    "# Print metrics\n",
    "stats = Statistics(ner_model, test_dataloader)\n",
    "print(stats.get_classification_report())\n",
    "stats.plot_confusion_matrix()\n",
    "stats.print_random_failed_predictions()"
   ],
   "outputs": []
  },
  {
   "cell_type": "markdown",
   "id": "811f1eef-8cc6-48b4-8dad-651ff44fa235",
   "metadata": {
    "tags": []
   },
   "source": [
    "#### BERT-large-uncased, но тренировочная и валидационная выборки поменяны местами"
   ]
  },
  {
   "cell_type": "markdown",
   "id": "a71b0930-ff51-4801-926e-7fe07a33d988",
   "metadata": {},
   "source": [
    "Графики обучения:\n",
    "(Метрика recall посчитана без учёта класса 'other', отвечающего за неличные сущности)."
   ]
  },
  {
   "cell_type": "code",
   "execution_count": 7,
   "id": "09b7ae47-dc7c-4bf9-b374-c408b3cd717f",
   "metadata": {
    "ExecuteTime": {
     "end_time": "2023-06-06T13:20:59.420546631Z",
     "start_time": "2023-06-06T13:20:59.215837341Z"
    },
    "collapsed": false,
    "jupyter": {
     "outputs_hidden": false
    }
   },
   "source": [
    "t_reader = TensorBoardReader(Path(bert_large_model_config[\"log_dir\"]) / Path(\"lightning_logs\"))\n",
    "t_reader.plot_ner_tensorboard_graphics(7)"
   ],
   "outputs": []
  },
  {
   "cell_type": "markdown",
   "id": "ad460c73-0a56-4a3e-bd32-f8909d11b6c1",
   "metadata": {},
   "source": [
    "Из обучения взята модель с лучшим показателем в метрике recall без учёта класса 'other'. Посмотрим на её метрики на валидационных данных."
   ]
  },
  {
   "cell_type": "code",
   "execution_count": 8,
   "id": "7f08b56d-4e99-4ab7-9b34-8df1e938d642",
   "metadata": {
    "ExecuteTime": {
     "end_time": "2023-06-06T13:21:01.131391168Z",
     "start_time": "2023-06-06T13:20:59.421390448Z"
    },
    "collapsed": false,
    "jupyter": {
     "outputs_hidden": false
    }
   },
   "source": [
    "# Data processing\n",
    "test_dataset = get_ner_dataset(path_to_folder=i2b2_2014_data_config[\"train_data_path\"], device='cpu', **i2b2_2014_data_config)\n",
    "test_dataloader = DataLoader(test_dataset, shuffle=False,\n",
    "                             batch_size=i2b2_2014_data_config[\"batch_size\"],\n",
    "                             collate_fn=test_dataset.get_collate_fn(),\n",
    "                             num_workers=10,\n",
    "                             pin_memory=False,\n",
    "                             persistent_workers=True)"
   ],
   "outputs": []
  },
  {
   "cell_type": "code",
   "execution_count": 9,
   "id": "2cb5ed73-96a5-4cba-b386-0511f8caf1a5",
   "metadata": {
    "ExecuteTime": {
     "end_time": "2023-06-06T13:21:04.328789107Z",
     "start_time": "2023-06-06T13:21:01.132140137Z"
    },
    "collapsed": false,
    "jupyter": {
     "outputs_hidden": false
    }
   },
   "source": [
    "# Model initialisation\n",
    "path_to_checkpoint = t_reader.get_ckpt_path(7)\n",
    "ner_model = PretrainedBertNER.load_from_checkpoint(path_to_checkpoint)\n",
    "print(ner_model)"
   ],
   "outputs": []
  },
  {
   "cell_type": "code",
   "execution_count": 10,
   "id": "0113f264-0df8-411d-bb6f-c6ac5c227e29",
   "metadata": {
    "ExecuteTime": {
     "end_time": "2023-06-06T13:21:15.910647340Z",
     "start_time": "2023-06-06T13:21:04.329935913Z"
    },
    "collapsed": false,
    "jupyter": {
     "outputs_hidden": false
    }
   },
   "source": [
    "# Testing\n",
    "trainer_args = {\n",
    "    \"accelerator\": \"gpu\",\n",
    "    \"logger\": False\n",
    "}\n",
    "trainer = pl.Trainer(**trainer_args, enable_progress_bar=True)\n",
    "trainer.test(ner_model, test_dataloader)"
   ],
   "outputs": []
  },
  {
   "cell_type": "code",
   "execution_count": 11,
   "id": "29fc26b0-4f26-4e82-9d07-5dd161f0ce36",
   "metadata": {
    "ExecuteTime": {
     "end_time": "2023-06-06T13:21:29.250031529Z",
     "start_time": "2023-06-06T13:21:15.911599249Z"
    },
    "collapsed": false,
    "jupyter": {
     "outputs_hidden": false
    }
   },
   "source": [
    "# Print metrics\n",
    "stats = Statistics(ner_model, test_dataloader)\n",
    "print(stats.get_classification_report())\n",
    "stats.plot_confusion_matrix()\n",
    "stats.print_random_failed_predictions()"
   ],
   "outputs": []
  },
  {
   "cell_type": "markdown",
   "id": "31559273-95a5-48bf-a0e7-7a129569e466",
   "metadata": {},
   "source": [
    "**Вывод:**  \n",
    "Recall предсказания класса превышает $98\\%$ для всех меток кроме 'AGE' в свзязи с его малым представлением в выборке (51 токен). Самый низкая точность распознования среди остальных, классов касается метки 'LOCATION'. При этом стоит отметить, что хотя класс 'CONTACT' в обучающей выборке представлен хуже 'LOCATION', из-за фиксированного формата его записи модель распознает данный класс успешннее."
   ]
  }
 ],
 "metadata": {
  "kernelspec": {
   "display_name": "Python 3 (ipykernel)",
   "language": "python",
   "name": "python3"
  },
  "language_info": {
   "codemirror_mode": {
    "name": "ipython",
    "version": 3
   },
   "file_extension": ".py",
   "mimetype": "text/x-python",
   "name": "python",
   "nbconvert_exporter": "python",
   "pygments_lexer": "ipython3",
   "version": "3.10.13"
  }
 },
 "nbformat": 4,
 "nbformat_minor": 5
}
