{
 "cells": [
  {
   "cell_type": "code",
   "execution_count": 1,
   "id": "38ba00c2288a472d",
   "metadata": {
    "ExecuteTime": {
     "end_time": "2024-04-11T06:51:38.132606Z",
     "start_time": "2024-04-11T06:51:38.101778Z"
    },
    "collapsed": false,
    "jupyter": {
     "outputs_hidden": false
    }
   },
   "source": [
    "import sys\n",
    "\n",
    "import numpy as np\n",
    "\n",
    "sys.path.insert(1, \"./src\")"
   ],
   "outputs": []
  },
  {
   "cell_type": "code",
   "execution_count": 2,
   "id": "initial_id",
   "metadata": {
    "ExecuteTime": {
     "end_time": "2024-04-11T06:51:39.907575Z",
     "start_time": "2024-04-11T06:51:38.133186Z"
    }
   },
   "source": [
    "import pickle\n",
    "from pathlib import Path\n",
    "from collections import Counter\n",
    "\n",
    "import yaml\n",
    "import pytorch_lightning as pl\n",
    "from torch.utils.data import DataLoader\n",
    "from transformers import set_seed\n",
    "\n",
    "from anonymization.gpt2_generation import GPT2GenerationAnonymization\n",
    "from anonymization.ref_book import ReferenceBookAnonymization\n",
    "from anonymization.donated_dataset import DonatedDatasetAnonymization\n",
    "from mask.util import convert_masked_docs_to_segments_set\n",
    "from models.gpt2_model import PretrainedGPT2TextInfilling\n",
    "from utils.infill_metrics import Statistics\n",
    "from utils.log_reader import TensorBoardReader\n",
    "from datasets.ner_dataset import get_ner_dataset\n",
    "from mask.personal_entity import MaskEntityType\n",
    "from models.bert_model import PretrainedBertNER\n",
    "from utils.ner_metrics import Statistics as NerStatistics"
   ],
   "outputs": []
  },
  {
   "cell_type": "code",
   "execution_count": 3,
   "id": "d26b2656a4f5961a",
   "metadata": {
    "ExecuteTime": {
     "end_time": "2024-04-11T06:51:39.910600Z",
     "start_time": "2024-04-11T06:51:39.908372Z"
    },
    "collapsed": false,
    "jupyter": {
     "outputs_hidden": false
    }
   },
   "source": [
    "set_seed(42)"
   ],
   "outputs": []
  },
  {
   "cell_type": "code",
   "execution_count": 4,
   "id": "43518ff18ecfc6d1",
   "metadata": {
    "ExecuteTime": {
     "end_time": "2024-04-11T06:51:39.946926Z",
     "start_time": "2024-04-11T06:51:39.911160Z"
    },
    "collapsed": false,
    "jupyter": {
     "outputs_hidden": false
    }
   },
   "source": [
    "mask_config = yaml.load(open(\"configs/ngram_mask_config.yaml\", 'r'), Loader=yaml.Loader)\n",
    "roc_stories_data_config = yaml.load(open(\"configs/roc_stories_data_config.yaml\", 'r'), Loader=yaml.Loader)\n",
    "i2b2_2006_data_config = yaml.load(open(\"configs/i2b2-2006_data_config.yaml\", 'r'), Loader=yaml.Loader)\n",
    "i2b2_2014_data_config = yaml.load(open(\"configs/i2b2-2014_data_config.yaml\", 'r'), Loader=yaml.Loader)"
   ],
   "outputs": []
  },
  {
   "cell_type": "code",
   "execution_count": 5,
   "id": "99bdb070-a5d4-4a32-86f3-05da5a854aa7",
   "metadata": {},
   "source": [
    "# NER Model config initialisation\n",
    "bert_base_model_config = yaml.load(open(\"configs/bert-base_model_config.yaml\", 'r'), Loader=yaml.Loader)\n",
    "bert_large_model_config = yaml.load(open(\"configs/bert-large_model_config.yaml\", 'r'), Loader=yaml.Loader)\n",
    "bert_large_model_config[\"model_version\"] = 3"
   ],
   "outputs": []
  },
  {
   "cell_type": "code",
   "execution_count": 6,
   "id": "9e3bed6774e1c18d",
   "metadata": {
    "ExecuteTime": {
     "end_time": "2024-04-11T06:51:39.971646Z",
     "start_time": "2024-04-11T06:51:39.948001Z"
    },
    "collapsed": false,
    "jupyter": {
     "outputs_hidden": false
    }
   },
   "source": [
    "# Anonymization config initialisation\n",
    "anon_config = yaml.load(open(\"configs/ref_book_anonymization_config.yaml\", 'r'), Loader=yaml.Loader)\n",
    "donor_data_config = yaml.load(open(\"configs/i2b2-2014_data_config.yaml\", 'r'), Loader=yaml.Loader)\n",
    "anon_gpt2_config = yaml.load(open(\"configs/gpt2_anonymization_config.yaml\", 'r'), Loader=yaml.Loader)\n",
    "anon_gpt2_config[\"model_version\"] = 23"
   ],
   "outputs": []
  },
  {
   "cell_type": "code",
   "execution_count": 7,
   "id": "738cd1dc7687cc9b",
   "metadata": {
    "ExecuteTime": {
     "end_time": "2024-04-11T06:51:42.127289Z",
     "start_time": "2024-04-11T06:51:39.972307Z"
    },
    "collapsed": false,
    "jupyter": {
     "outputs_hidden": false
    }
   },
   "source": [
    "# # Инициализация алгоритма генерации искусственных сущностей с помощью GPT2\n",
    "# model_reader = TensorBoardReader(Path(anon_gpt2_config[\"log_dir\"]) / Path(\"lightning_logs\"))\n",
    "# path_to_checkpoint = model_reader.get_ckpt_path(anon_gpt2_config[\"model_version\"])\n",
    "# text_infill_model = PretrainedGPT2TextInfilling.load_from_checkpoint(path_to_checkpoint, strict=False).to(\"cuda:0\")\n",
    "# text_infill_model.eval()\n",
    "\n",
    "# anonymization = GPT2GenerationAnonymization(text_infill_model,\n",
    "#                                             label2type=lambda x: MaskEntityType[x.upper()],\n",
    "#                                             mask_types=list(MaskEntityType), **anon_gpt2_config)\n",
    "\n",
    "# model_reader.plot_text_infill_tensorboard_graphics(anon_gpt2_config[\"model_version\"])"
   ],
   "outputs": []
  },
  {
   "cell_type": "code",
   "execution_count": 8,
   "id": "77a1e851-5ca4-44fb-8839-885f15abd1df",
   "metadata": {},
   "source": [
    "anonymization = ReferenceBookAnonymization(**anon_config, other_label=i2b2_2014_data_config['other_label'])\n",
    "\n",
    "# path_to_donor = Path(donor_data_config[\"train_data_path\"]).with_suffix(\".pkl\")\n",
    "# anonymization = DonatedDatasetAnonymization.use_saved_dataset_as_donor(str(path_to_donor),\n",
    "#                                                                        other_label=i2b2_2014_data_config['other_label'])"
   ],
   "outputs": []
  },
  {
   "cell_type": "code",
   "execution_count": 9,
   "id": "8d0f21a7-222b-4cb5-9117-ba7dbd328c34",
   "metadata": {},
   "source": [
    "def print_dict(dictionary: dict):\n",
    "    for k, v in dictionary.items():\n",
    "        print(f\"{k}:\\t{v}\")"
   ],
   "outputs": []
  },
  {
   "cell_type": "code",
   "execution_count": 10,
   "id": "4d83b320-5353-4a38-a84d-674cfb791b07",
   "metadata": {},
   "source": [
    "def print_helpfull_statistics(infill_stats: Statistics, donated_entities_tf=None):\n",
    "    masks_num = {k: sum(c for c in v.values()) for k, v in infill_stats.sub_entity_term_freq.items()}\n",
    "    print(f\"Распределение всех заполняемых масок ({sum(c for c in masks_num.values())}):\")\n",
    "    print_dict(masks_num)\n",
    "    print()\n",
    "    \n",
    "    min_cer = min([min(x) for x in infill_stats.error_rates])\n",
    "    mean_cer = sum([sum(x) for x in infill_stats.error_rates]) / sum([len(x) for x in infill_stats.error_rates])\n",
    "    print(f\"Средний показатель CER между изначальными текстами и ответами в примерах(macro_avg): {infill_stats.avg_cer:.3f}\")\n",
    "    print(f\"Средний CER между изначальными текстами и ответами (micro_avg): {mean_cer:.3f}\")\n",
    "    print(f\"Минимальный CER между изначальным текстом и ответом: {min_cer:.3f}\")\n",
    "    print()\n",
    "\n",
    "    print(\"Число сэмплов с идеальными угадываниями:\", len([x for x in infill_stats.error_rates if any(np.array(x) == 0.)]), \n",
    "          \"/\", len(infill_stats.error_rates))\n",
    "    print(\"Число идеальных угадываний:\", sum([np.sum(np.array(x) == 0.) for x in infill_stats.error_rates]), \n",
    "      \"/\", sum([len(x) for x in infill_stats.error_rates]))\n",
    "    print(\"Статистика по угаданным типам данных:\")\n",
    "    guessed_categories = [np.array([cat for cat in categories if cat != infill_stats.other_label]) for categories in infill_stats.general_category_list]\n",
    "    guessed_text = [np.array([infill_stats.source_text_list[i][j] for j, cat in enumerate(categories) if cat != infill_stats.other_label]) \n",
    "                    for i, categories in enumerate(infill_stats.general_category_list)]\n",
    "    guessed_categories = sum([c[np.array(x) == 0.].tolist() for x, c in zip(infill_stats.error_rates, guessed_categories)], [])\n",
    "    guessed_text = sum([t[np.array(x) == 0.].tolist() for x, t in zip(infill_stats.error_rates, guessed_text)], [])\n",
    "    guessed_categories = Counter(guessed_categories)\n",
    "    guessed_text = Counter(guessed_text)\n",
    "    print(\"Категории:\")\n",
    "    print_dict(guessed_categories)\n",
    "    print(\"Тексты:\")\n",
    "    print(dict(guessed_text))\n",
    "    print()\n",
    "\n",
    "    repeated_entities = {k: v.keys() & infill_stats.orig_entity_term_freq[k].keys() for k, v in infill_stats.sub_entity_term_freq.items()}\n",
    "    print(f\"Количество полностью повторённых сущностей без учёта контекста ({sum(len(v) for v in repeated_entities.values())}):\")\n",
    "    print_dict({k: len(v) for k, v in repeated_entities.items()})\n",
    "    print(\"10 самых часто повторяемых сущностей каждого типа: текст сущности / количество появлений в заменённом тексте / количество появлений в изначальном тексте\")\n",
    "    print_dict({k: sorted([(t, infill_stats.sub_entity_term_freq[k][t], infill_stats.orig_entity_term_freq[k][t]) for t in v],\n",
    "                     key=lambda x: x[1])[-10:] for k, v in repeated_entities.items()})\n",
    "    print()\n",
    "    \n",
    "    if donated_entities_tf is not None:\n",
    "        repeated_entities = {k: v.keys() & donated_entities_tf[k].keys() for k, v in infill_stats.sub_entity_term_freq.items()}\n",
    "        print(f\"Количество полностью повторённых сущностей из донорского датасета ({sum(len(v) for v in repeated_entities.values())}):\")\n",
    "        print_dict({k: len(v) for k, v in repeated_entities.items()})\n",
    "        print(\"10 самых часто повторяемых сущностей каждого типа: текст сущности / количество появлений в заменённом тексте / количество появлений в изначальном тексте\")\n",
    "        print_dict({k: sorted([(t, infill_stats.sub_entity_term_freq[k][t], donated_entities_tf[k][t]) for t in v],\n",
    "                         key=lambda x: x[1])[-10:] for k, v in repeated_entities.items()})\n",
    "        print()\n",
    "\n",
    "    print(\"Количество используемых лемм при анонимизации:\", {k: len(v) for k, v in infill_stats.sub_label_lemmas.items()})\n",
    "    print(\"Количество используемых лемм в изначальном наборе данных:\", {k: len(v) for k, v in infill_stats.orig_label_lemmas.items()})\n",
    "    print(\"Доля лемм, используемых из изначального набора данных:\")\n",
    "    print_dict({k: len(v & infill_stats.orig_label_lemmas[k]) / (len(v) or 1) for k, v in infill_stats.sub_label_lemmas.items()})"
   ],
   "outputs": []
  },
  {
   "cell_type": "markdown",
   "id": "a08e8a30-1df5-4508-b296-c7571acf3863",
   "metadata": {
    "tags": []
   },
   "source": [
    "### Соответствие сгенерированных данных их типам\n",
    "Правдоподобность искусственных примеров будет оцениваться по метрикам их определения лучшей NER моделью --- BERT-large-uncased, дообученной на i2b2 2014"
   ]
  },
  {
   "cell_type": "code",
   "execution_count": 11,
   "id": "b34119ff-827b-4457-a24a-2b536dcbd9b3",
   "metadata": {
    "ExecuteTime": {
     "end_time": "2024-04-11T08:05:07.890468Z",
     "start_time": "2024-04-11T07:56:59.973246Z"
    }
   },
   "source": [
    "# Инициализация обезличенного тестового датасета\n",
    "test_dataset = get_ner_dataset(path_to_folder=i2b2_2014_data_config[\"train_data_path\"], \n",
    "                               anonymization=anonymization, device='cpu',\n",
    "                               **i2b2_2014_data_config)\n",
    "test_dataloader = DataLoader(test_dataset, shuffle=False,\n",
    "                             batch_size=i2b2_2014_data_config[\"batch_size\"],\n",
    "                             collate_fn=test_dataset.get_collate_fn(),\n",
    "                             num_workers=10,\n",
    "                             pin_memory=False,\n",
    "                             persistent_workers=True)"
   ],
   "outputs": []
  },
  {
   "cell_type": "markdown",
   "id": "fdb55ebe-fe71-4e32-8eea-5d8ba6c14917",
   "metadata": {},
   "source": [
    "Графики обучения модели для заполнения пропусков"
   ]
  },
  {
   "cell_type": "code",
   "execution_count": 12,
   "id": "0e2e8cb7-9f16-43be-9eaf-d86a0ba2082e",
   "metadata": {
    "ExecuteTime": {
     "end_time": "2024-04-11T06:51:42.344333Z",
     "start_time": "2024-04-11T06:51:42.128077Z"
    }
   },
   "source": [
    "t_reader = TensorBoardReader(Path(bert_large_model_config[\"log_dir\"]) / Path(\"lightning_logs\"))\n",
    "ner_model = PretrainedBertNER.load_from_checkpoint(t_reader.get_ckpt_path(bert_large_model_config[\"model_version\"]))"
   ],
   "outputs": []
  },
  {
   "cell_type": "code",
   "execution_count": 13,
   "id": "ad60f57d-4240-489b-9997-7d3e7cbc7dae",
   "metadata": {
    "ExecuteTime": {
     "end_time": "2024-04-11T08:05:53.979930Z",
     "start_time": "2024-04-11T08:05:10.519152Z"
    }
   },
   "source": [
    "# Тестирование\n",
    "trainer_args = {\n",
    "    \"accelerator\": \"gpu\",\n",
    "    \"logger\": False\n",
    "}\n",
    "trainer = pl.Trainer(**trainer_args, enable_progress_bar=True)\n",
    "trainer.test(ner_model, test_dataloader)"
   ],
   "outputs": []
  },
  {
   "cell_type": "code",
   "execution_count": 14,
   "id": "d974c752-b5eb-448c-9b8d-e7bf58b0bc82",
   "metadata": {
    "ExecuteTime": {
     "end_time": "2024-04-11T08:06:40.740199Z",
     "start_time": "2024-04-11T08:05:53.980684Z"
    }
   },
   "source": [
    "# Метрики\n",
    "stats = NerStatistics(ner_model, test_dataloader)\n",
    "print(stats.get_classification_report())\n",
    "stats.plot_confusion_matrix()\n",
    "stats.print_random_failed_predictions()"
   ],
   "outputs": []
  },
  {
   "cell_type": "code",
   "execution_count": 15,
   "id": "b7aea5e5-9018-4e60-8856-3f72c781f98f",
   "metadata": {
    "ExecuteTime": {
     "end_time": "2024-04-08T22:04:26.924984Z",
     "start_time": "2024-04-08T22:04:26.877328Z"
    },
    "scrolled": true
   },
   "source": [
    "stats.get_specific_failed_predictions('LOCATION')"
   ],
   "outputs": []
  },
  {
   "cell_type": "code",
   "execution_count": 16,
   "id": "04bb5be3-7709-4bc5-ab76-8efc77432fff",
   "metadata": {
    "ExecuteTime": {
     "end_time": "2024-04-09T05:38:45.078855Z",
     "start_time": "2024-04-09T05:38:45.008637Z"
    },
    "scrolled": true
   },
   "source": [
    "stats.get_specific_failed_predictions('PROFESSION')"
   ],
   "outputs": []
  },
  {
   "cell_type": "markdown",
   "id": "d4e77282ab6d7bc8",
   "metadata": {},
   "source": [
    "### Проверка заполнения пропусков на случайным образом замаскированных текстах (roc stories)"
   ]
  },
  {
   "cell_type": "code",
   "execution_count": 17,
   "id": "65d5f677548ba739",
   "metadata": {
    "ExecuteTime": {
     "end_time": "2024-04-11T06:51:42.351201Z",
     "start_time": "2024-04-11T06:51:42.344817Z"
    }
   },
   "source": [
    "path_to_data = roc_stories_data_config[\"validate_data_path\"]\n",
    "split = \"valid\"\n",
    "if Path(path_to_data).suffix != '.pkl':\n",
    "    path_to_data = str(Path(path_to_data).parent / Path(f'{Path(path_to_data).stem}_{split}.pkl'))\n",
    "    \n",
    "# категории сущностей в формате [список категорий отрезков в документе, ...]; исходный текст в формате [список отрезков в документе, ...]\n",
    "with open(path_to_data, 'rb') as f:\n",
    "    # [(текст документа, список наборов масок для него: [[(тип, сдвиг, длина), ...], ...]), ...]\n",
    "    infill_dataset = pickle.load(f)\n",
    "    _, categories_list, source_texts = convert_masked_docs_to_segments_set(infill_dataset)"
   ],
   "outputs": []
  },
  {
   "cell_type": "code",
   "execution_count": 18,
   "id": "b775a4cb13ab3950",
   "metadata": {
    "ExecuteTime": {
     "end_time": "2024-04-11T06:53:19.868216Z",
     "start_time": "2024-04-11T06:51:42.351635Z"
    }
   },
   "source": [
    "infill_stats = Statistics(anonymization, categories_list[:3000], categories_list[:3000], source_texts[:3000], is_uncased=True)"
   ],
   "outputs": []
  },
  {
   "cell_type": "code",
   "execution_count": 19,
   "id": "a66f2da6e41b376a",
   "metadata": {
    "ExecuteTime": {
     "end_time": "2024-04-11T06:53:19.872582Z",
     "start_time": "2024-04-11T06:53:19.868696Z"
    },
    "collapsed": false,
    "jupyter": {
     "outputs_hidden": false
    },
    "scrolled": true
   },
   "source": [
    "indexes = infill_stats.random_examples_indexes(30)\n",
    "infill_stats.print_examples_by_indexes(indexes[-5:], max_example_len=500, start_other_len=100)"
   ],
   "outputs": []
  },
  {
   "cell_type": "markdown",
   "id": "3941949b6477ffcd",
   "metadata": {},
   "source": [
    "### Проверка заполнения пропусков в примерах с личной информацией (i2b2_2014)"
   ]
  },
  {
   "cell_type": "markdown",
   "id": "50e137c8-67d7-47de-9031-089be6757fe1",
   "metadata": {},
   "source": [
    "#### Тренировочная выборка"
   ]
  },
  {
   "cell_type": "code",
   "execution_count": 20,
   "id": "8c8db29a3daef0c2",
   "metadata": {
    "ExecuteTime": {
     "end_time": "2024-04-11T06:53:23.497111Z",
     "start_time": "2024-04-11T06:53:19.873525Z"
    },
    "scrolled": true
   },
   "source": [
    "# Для кэширования данных\n",
    "get_ner_dataset(path_to_folder=i2b2_2014_data_config[\"train_data_path\"], device='cpu', **i2b2_2014_data_config)"
   ],
   "outputs": []
  },
  {
   "cell_type": "code",
   "execution_count": 21,
   "id": "81b0a7a40eead799",
   "metadata": {
    "ExecuteTime": {
     "end_time": "2024-04-11T06:53:23.501778Z",
     "start_time": "2024-04-11T06:53:23.497683Z"
    }
   },
   "source": [
    "path = str(Path(i2b2_2014_data_config[\"train_data_path\"]).with_suffix(\".pkl\"))\n",
    "with open(path, 'rb') as f:\n",
    "    (_, source_texts, specific_category_list, general_category_list, _) = pickle.load(f)"
   ],
   "outputs": []
  },
  {
   "cell_type": "code",
   "execution_count": 22,
   "id": "5c32bf7adc9d8e67",
   "metadata": {
    "ExecuteTime": {
     "end_time": "2024-04-11T06:58:16.930759Z",
     "start_time": "2024-04-11T06:53:23.502216Z"
    }
   },
   "source": [
    "infill_stats = Statistics(anonymization, general_category_list, specific_category_list, source_texts, is_uncased=True)\n",
    "donated_entities_tf = infill_stats.orig_entity_term_freq"
   ],
   "outputs": []
  },
  {
   "cell_type": "code",
   "execution_count": 23,
   "id": "3ef314cd92a58f5d",
   "metadata": {
    "ExecuteTime": {
     "end_time": "2024-04-11T06:58:16.943953Z",
     "start_time": "2024-04-11T06:58:16.931285Z"
    },
    "scrolled": true
   },
   "source": [
    "indexes = infill_stats.random_examples_indexes(5)\n",
    "infill_stats.print_examples_by_indexes(indexes[-5:], max_example_len=500, start_other_len=100)"
   ],
   "outputs": []
  },
  {
   "cell_type": "code",
   "execution_count": 24,
   "id": "f88f718f155ce6d5",
   "metadata": {
    "ExecuteTime": {
     "end_time": "2024-04-11T06:58:17.027654Z",
     "start_time": "2024-04-11T06:58:16.984919Z"
    },
    "scrolled": true
   },
   "source": [
    "(record_ids, col_j), cer = infill_stats.find_closest_substitutions(5)\n",
    "infill_stats.print_examples_by_indexes(record_ids.tolist(), max_example_len=500, start_other_len=100)"
   ],
   "outputs": []
  },
  {
   "cell_type": "code",
   "execution_count": 25,
   "id": "4603b42a-a82e-4066-ad18-08c684d6fccc",
   "metadata": {},
   "source": [
    "print_helpfull_statistics(infill_stats)"
   ],
   "outputs": []
  },
  {
   "cell_type": "markdown",
   "id": "01fc2be8-8eb1-48eb-a65e-e4bf1b1ed26c",
   "metadata": {},
   "source": [
    "#### Валидационная выборка"
   ]
  },
  {
   "cell_type": "code",
   "execution_count": null,
   "id": "0495c391-652f-466b-94a7-cf7c449b1323",
   "metadata": {
    "ExecuteTime": {
     "end_time": "2024-04-11T06:53:23.497111Z",
     "start_time": "2024-04-11T06:53:19.873525Z"
    },
    "scrolled": true
   },
   "source": [
    "# Для кэширования данных\n",
    "get_ner_dataset(path_to_folder=i2b2_2014_data_config[\"validate_data_path\"], device='cpu', **i2b2_2014_data_config)"
   ],
   "outputs": []
  },
  {
   "cell_type": "code",
   "execution_count": null,
   "id": "5347aaa1-cf32-4ff8-9fc7-2aa3cf3dbf75",
   "metadata": {
    "ExecuteTime": {
     "end_time": "2024-04-11T06:53:23.501778Z",
     "start_time": "2024-04-11T06:53:23.497683Z"
    }
   },
   "source": [
    "path = str(Path(i2b2_2014_data_config[\"validate_data_path\"]).with_suffix(\".pkl\"))\n",
    "with open(path, 'rb') as f:\n",
    "    (_, source_texts, specific_category_list, general_category_list, _) = pickle.load(f)"
   ],
   "outputs": []
  },
  {
   "cell_type": "code",
   "execution_count": null,
   "id": "04f480d6-7004-4f5b-bd3e-d33449c5b333",
   "metadata": {
    "ExecuteTime": {
     "end_time": "2024-04-11T06:58:16.930759Z",
     "start_time": "2024-04-11T06:53:23.502216Z"
    }
   },
   "source": [
    "infill_stats = Statistics(anonymization, general_category_list, specific_category_list, source_texts, is_uncased=True)"
   ],
   "outputs": []
  },
  {
   "cell_type": "code",
   "execution_count": null,
   "id": "c2fa9ac4-c104-456e-8997-b5dcd91733ff",
   "metadata": {
    "ExecuteTime": {
     "end_time": "2024-04-11T06:58:16.943953Z",
     "start_time": "2024-04-11T06:58:16.931285Z"
    },
    "scrolled": true
   },
   "source": [
    "indexes = infill_stats.random_examples_indexes(5)\n",
    "infill_stats.print_examples_by_indexes(indexes[-5:], max_example_len=500, start_other_len=100)"
   ],
   "outputs": []
  },
  {
   "cell_type": "code",
   "execution_count": null,
   "id": "bdffbf5f-80b5-42d3-8490-00d589d4befe",
   "metadata": {
    "ExecuteTime": {
     "end_time": "2024-04-11T06:58:17.027654Z",
     "start_time": "2024-04-11T06:58:16.984919Z"
    },
    "scrolled": true
   },
   "source": [
    "(record_ids, col_j), cer = infill_stats.find_closest_substitutions(5)\n",
    "infill_stats.print_examples_by_indexes(record_ids.tolist(), max_example_len=500, start_other_len=100)"
   ],
   "outputs": []
  },
  {
   "cell_type": "code",
   "execution_count": null,
   "id": "475f2f46-c934-4779-a6b8-b135019c3637",
   "metadata": {},
   "source": [
    "print_helpfull_statistics(infill_stats, donated_entities_tf)"
   ],
   "outputs": []
  },
  {
   "cell_type": "markdown",
   "id": "a0d74e31-0089-452a-a8b9-bdb2131ae709",
   "metadata": {},
   "source": [
    "### Проверка заполнения пропусков в примерах с личной информацией (i2b2_2006)"
   ]
  },
  {
   "cell_type": "markdown",
   "id": "4e0aaffd-6060-425f-a71f-085d5bebf90f",
   "metadata": {},
   "source": [
    "#### Тренировочная выборка"
   ]
  },
  {
   "cell_type": "code",
   "execution_count": null,
   "id": "b98e046d-11b6-4d5a-95aa-cdc2da492703",
   "metadata": {
    "ExecuteTime": {
     "end_time": "2024-04-11T06:58:18.873578Z",
     "start_time": "2024-04-11T06:58:17.050908Z"
    }
   },
   "source": [
    "# Для кэширования данных\n",
    "get_ner_dataset(path_to_folder=i2b2_2006_data_config[\"train_data_path\"], device='cpu', **i2b2_2006_data_config)"
   ],
   "outputs": []
  },
  {
   "cell_type": "code",
   "execution_count": null,
   "id": "999e11f5-3705-4271-a107-5cc0fade59de",
   "metadata": {
    "ExecuteTime": {
     "end_time": "2024-04-11T06:58:18.877331Z",
     "start_time": "2024-04-11T06:58:18.874177Z"
    }
   },
   "source": [
    "path = str(Path(i2b2_2006_data_config[\"train_data_path\"]).with_suffix(\".pkl\"))\n",
    "with open(path, 'rb') as f:\n",
    "    (_, source_texts, specific_category_list, general_category_list, _) = pickle.load(f)"
   ],
   "outputs": []
  },
  {
   "cell_type": "code",
   "execution_count": null,
   "id": "1f7283fe-c40a-4133-9df6-6f09e717adef",
   "metadata": {
    "ExecuteTime": {
     "end_time": "2024-04-11T07:00:27.159731Z",
     "start_time": "2024-04-11T06:58:18.877808Z"
    }
   },
   "source": [
    "infill_stats = Statistics(anonymization, general_category_list, specific_category_list, source_texts, is_uncased=True)"
   ],
   "outputs": []
  },
  {
   "cell_type": "code",
   "execution_count": null,
   "id": "28263bf5-5f7e-4509-9b3a-2deb8d4e95c5",
   "metadata": {
    "ExecuteTime": {
     "end_time": "2024-04-11T07:00:27.170382Z",
     "start_time": "2024-04-11T07:00:27.160274Z"
    },
    "scrolled": true
   },
   "source": [
    "indexes = infill_stats.random_examples_indexes(5)\n",
    "infill_stats.print_examples_by_indexes(indexes[-5:], max_example_len=500, start_other_len=100)"
   ],
   "outputs": []
  },
  {
   "cell_type": "code",
   "execution_count": null,
   "id": "669c09f58d4651a1",
   "metadata": {
    "ExecuteTime": {
     "end_time": "2024-04-11T07:00:27.244315Z",
     "start_time": "2024-04-11T07:00:27.208037Z"
    },
    "scrolled": true
   },
   "source": [
    "(record_ids, col_j), cer = infill_stats.find_closest_substitutions(5)\n",
    "infill_stats.print_examples_by_indexes(record_ids.tolist(), max_example_len=500, start_other_len=100)"
   ],
   "outputs": []
  },
  {
   "cell_type": "code",
   "execution_count": null,
   "id": "1d4ae608-ba5e-40ee-a06e-51d5568dee05",
   "metadata": {},
   "source": [
    "print_helpfull_statistics(infill_stats, donated_entities_tf)"
   ],
   "outputs": []
  },
  {
   "cell_type": "markdown",
   "id": "674efd71-ac86-4d8c-8c8c-471eda9d7945",
   "metadata": {
    "jp-MarkdownHeadingCollapsed": true
   },
   "source": [
    "#### Валидационная выборка"
   ]
  },
  {
   "cell_type": "code",
   "execution_count": null,
   "id": "69bb8c01-7275-4996-93e9-be47170ef3bf",
   "metadata": {
    "ExecuteTime": {
     "end_time": "2024-04-11T06:53:23.497111Z",
     "start_time": "2024-04-11T06:53:19.873525Z"
    },
    "scrolled": true
   },
   "source": [
    "# Для кэширования данных\n",
    "get_ner_dataset(path_to_folder=i2b2_2006_data_config[\"validate_data_path\"], device='cpu', **i2b2_2006_data_config)"
   ],
   "outputs": []
  },
  {
   "cell_type": "code",
   "execution_count": null,
   "id": "2e1f6ff3-f89a-4bf5-9d8c-33959b52c77d",
   "metadata": {
    "ExecuteTime": {
     "end_time": "2024-04-11T06:53:23.501778Z",
     "start_time": "2024-04-11T06:53:23.497683Z"
    }
   },
   "source": [
    "path = str(Path(i2b2_2014_data_config[\"validate_data_path\"]).with_suffix(\".pkl\"))\n",
    "with open(path, 'rb') as f:\n",
    "    (_, source_texts, specific_category_list, general_category_list, _) = pickle.load(f)"
   ],
   "outputs": []
  },
  {
   "cell_type": "code",
   "execution_count": null,
   "id": "bd58274b-6c1c-4d5e-86d2-e73c88260f35",
   "metadata": {
    "ExecuteTime": {
     "end_time": "2024-04-11T06:58:16.930759Z",
     "start_time": "2024-04-11T06:53:23.502216Z"
    }
   },
   "source": [
    "infill_stats = Statistics(anonymization, general_category_list, specific_category_list, source_texts, is_uncased=True)"
   ],
   "outputs": []
  },
  {
   "cell_type": "code",
   "execution_count": null,
   "id": "7d08d096-5a8a-453c-8e4b-46290391e643",
   "metadata": {
    "ExecuteTime": {
     "end_time": "2024-04-11T06:58:16.943953Z",
     "start_time": "2024-04-11T06:58:16.931285Z"
    },
    "scrolled": true
   },
   "source": [
    "indexes = infill_stats.random_examples_indexes(5)\n",
    "infill_stats.print_examples_by_indexes(indexes[-5:], max_example_len=500, start_other_len=100)"
   ],
   "outputs": []
  },
  {
   "cell_type": "code",
   "execution_count": null,
   "id": "4c078039-5465-4576-a31a-d2cd4bbbd856",
   "metadata": {
    "ExecuteTime": {
     "end_time": "2024-04-11T06:58:17.027654Z",
     "start_time": "2024-04-11T06:58:16.984919Z"
    },
    "scrolled": true
   },
   "source": [
    "(record_ids, col_j), cer = infill_stats.find_closest_substitutions(5)\n",
    "infill_stats.print_examples_by_indexes(record_ids.tolist(), max_example_len=500, start_other_len=100)"
   ],
   "outputs": []
  },
  {
   "cell_type": "code",
   "execution_count": null,
   "id": "532509cc-df40-4eb7-97e8-dbe857ab4a7c",
   "metadata": {},
   "source": [
    "print_helpfull_statistics(infill_stats, donated_entities_tf)"
   ],
   "outputs": []
  }
 ],
 "metadata": {
  "kernelspec": {
   "display_name": "Python 3 (ipykernel)",
   "language": "python",
   "name": "python3"
  },
  "language_info": {
   "codemirror_mode": {
    "name": "ipython",
    "version": 3
   },
   "file_extension": ".py",
   "mimetype": "text/x-python",
   "name": "python",
   "nbconvert_exporter": "python",
   "pygments_lexer": "ipython3",
   "version": "3.10.13"
  }
 },
 "nbformat": 4,
 "nbformat_minor": 5
}
