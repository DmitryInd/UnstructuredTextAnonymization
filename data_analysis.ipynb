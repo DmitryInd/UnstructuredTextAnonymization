{
 "cells": [
  {
   "cell_type": "code",
   "execution_count": 1,
   "id": "eb5cedb5-538a-4646-83e2-3441c6b37f57",
   "metadata": {
    "ExecuteTime": {
     "end_time": "2024-04-10T19:21:25.060784Z",
     "start_time": "2024-04-10T19:21:25.059184Z"
    }
   },
   "outputs": [],
   "source": [
    "import sys\n",
    "sys.path.insert(1, \"./src\")"
   ]
  },
  {
   "cell_type": "code",
   "execution_count": 2,
   "id": "65863a71-8d94-4099-9076-061f057412b8",
   "metadata": {
    "ExecuteTime": {
     "end_time": "2024-04-10T19:21:25.108712Z",
     "start_time": "2024-04-10T19:21:25.061297Z"
    }
   },
   "outputs": [],
   "source": [
    "import yaml\n",
    "import pandas as pd\n",
    "import matplotlib.pyplot as plt\n",
    "import seaborn as sns"
   ]
  },
  {
   "cell_type": "code",
   "execution_count": 3,
   "id": "a3ea7bcf-8faf-453b-865d-e5cd385915df",
   "metadata": {
    "ExecuteTime": {
     "end_time": "2024-04-10T19:21:25.849186Z",
     "start_time": "2024-04-10T19:21:25.109338Z"
    }
   },
   "outputs": [],
   "source": [
    "from datasets.ner_dataset import get_ner_dataset, NerDataset"
   ]
  },
  {
   "cell_type": "code",
   "execution_count": 4,
   "id": "825d47f6-7e85-470d-8d61-c91aa8786890",
   "metadata": {
    "ExecuteTime": {
     "end_time": "2024-04-10T19:21:25.852579Z",
     "start_time": "2024-04-10T19:21:25.849684Z"
    }
   },
   "outputs": [],
   "source": [
    "def plot_class_distribution(data: NerDataset, title: str) -> pd.DataFrame:\n",
    "    token_list = []\n",
    "    for i in range(len(data)):\n",
    "        token_list.extend(list(map(lambda x: (x[0].item(), data.index2label[x[1].item()]), \n",
    "                                   zip(*data[i][1:]))))\n",
    "    token_list = list(filter(lambda x: x[   1].strip() != '[PAD]', token_list))\n",
    "    print(f\"The number of all tokens: {len(token_list)}\")\n",
    "    df = pd.DataFrame(token_list, columns=['token','label'])\n",
    "    print(df['label'].value_counts(normalize = False))\n",
    "    distr = df['label'].loc[df['label'] != 'O'].value_counts(normalize = True)\n",
    "    plt.figure(figsize=(15, 2.5))\n",
    "    with sns.plotting_context(\"talk\", font_scale=0.5), sns.axes_style('whitegrid'), sns.mpl_palette(\"GnBu_d\", n_colors=len(distr)):\n",
    "        sns.barplot(x=distr.index, y=distr.values).set_title(title)\n",
    "    return df"
   ]
  },
  {
   "cell_type": "code",
   "execution_count": 5,
   "id": "74f9031a-d7b0-47c9-ab7b-c308c1db533e",
   "metadata": {
    "ExecuteTime": {
     "end_time": "2024-04-10T19:21:25.886409Z",
     "start_time": "2024-04-10T19:21:25.852992Z"
    }
   },
   "outputs": [],
   "source": [
    "def plot_len_distribution(data: NerDataset):\n",
    "    len_list = [len(data[i][1]) for i in range(len(data))]\n",
    "    print(f\"The number of records: {len(len_list)}\")\n",
    "    df = pd.DataFrame({'length': len_list})\n",
    "    print(f\"The mean length: {df['length'].mean()}\")\n",
    "    plt.figure(figsize=(16, 8))\n",
    "    with sns.plotting_context(\"talk\", font_scale=0.7), sns.axes_style('whitegrid'), sns.mpl_palette(\"GnBu_d\"):\n",
    "        sns.histplot(df['length'], kde=False, bins=50).set_title(\"Распределение количества токенов в записях\")"
   ]
  },
  {
   "cell_type": "markdown",
   "id": "bd97ced7-0d74-48c6-8828-83c21b87def3",
   "metadata": {},
   "source": [
    "### Этап 5: Дополнительное исследование данных"
   ]
  },
  {
   "cell_type": "markdown",
   "id": "92ffdb7c-a955-47d8-a4fe-c70b2878d35a",
   "metadata": {},
   "source": [
    "Анализ данных будет проходить на основе токенизатора основной модели \"bert-large-uncased\"."
   ]
  },
  {
   "cell_type": "markdown",
   "id": "644e269d-7447-4f39-897a-613e9fa34aac",
   "metadata": {
    "tags": []
   },
   "source": [
    "#### i2b2 2014"
   ]
  },
  {
   "cell_type": "code",
   "execution_count": 6,
   "id": "4577e32e-ddea-4b55-8cde-d01e7bc16a57",
   "metadata": {
    "ExecuteTime": {
     "end_time": "2024-04-10T19:21:35.083837Z",
     "start_time": "2024-04-10T19:21:25.886923Z"
    }
   },
   "outputs": [],
   "source": [
    "data_config = yaml.load(open(\"configs/i2b2-2014_data_config.yaml\", 'r'), Loader=yaml.Loader)\n",
    "data_config['eq_max_padding'] = False\n",
    "data_config['max_length'] = None\n",
    "train_dataset = get_ner_dataset(path_to_folder=data_config[\"train_data_path\"], device=\"cpu\", **data_config)\n",
    "val_dataset = get_ner_dataset(path_to_folder=data_config[\"validate_data_path\"], device=\"cpu\", **data_config)"
   ]
  },
  {
   "cell_type": "code",
   "execution_count": 7,
   "id": "04340e3d-0bf6-4f9d-9eb3-4aa10c034bc3",
   "metadata": {
    "ExecuteTime": {
     "end_time": "2024-04-10T19:21:36.838357Z",
     "start_time": "2024-04-10T19:21:35.085182Z"
    }
   },
   "outputs": [],
   "source": [
    "train_df = plot_class_distribution(train_dataset, 'Тренировочная выборка')"
   ]
  },
  {
   "cell_type": "code",
   "execution_count": 8,
   "id": "485c4463-f2eb-41b6-8aa4-84531fab52ce",
   "metadata": {
    "ExecuteTime": {
     "end_time": "2024-04-10T19:21:38.004296Z",
     "start_time": "2024-04-10T19:21:36.839055Z"
    }
   },
   "outputs": [],
   "source": [
    "val_df = plot_class_distribution(val_dataset, 'Тестовая выборка')"
   ]
  },
  {
   "cell_type": "markdown",
   "id": "47b779db-3fe0-425f-b663-44cd80f46ff9",
   "metadata": {},
   "source": [
    "Заметим, что около $90\\%$  токенов являются 'OTHER' и распозоваемые сущности занимают менее 10% всего текста, т.к одна четверть токенов являются техническими. Распознаваемые классы распределены неравномерно. Среди них самым популярным является класс 'DATE', оставшиеся классы встречаются в два раза реже. А самым редким классом, который определён только у 830 токенов, является 'PROFESSION', что приводит к относительно низкому качеству его распозавания всеми моделями.  \n",
    "Распределение классов в тренировочной и валидационной выборке совпадает. При этом обучающая выборка лишь в полтора раза больше тестовой."
   ]
  },
  {
   "cell_type": "code",
   "execution_count": 9,
   "id": "fc288d4e-bf7c-47c7-9703-6f3e8d9c0985",
   "metadata": {
    "ExecuteTime": {
     "end_time": "2024-04-10T19:21:38.231741Z",
     "start_time": "2024-04-10T19:21:38.004874Z"
    }
   },
   "outputs": [],
   "source": [
    "plot_len_distribution(train_dataset)"
   ]
  },
  {
   "cell_type": "code",
   "execution_count": 10,
   "id": "9df7c1c0-382f-416a-baf1-32b83c35e5fc",
   "metadata": {
    "ExecuteTime": {
     "end_time": "2024-04-10T19:21:38.410602Z",
     "start_time": "2024-04-10T19:21:38.232248Z"
    }
   },
   "outputs": [],
   "source": [
    "plot_len_distribution(val_dataset)"
   ]
  },
  {
   "cell_type": "markdown",
   "id": "758f9913-7508-4ce7-b748-00a20745e118",
   "metadata": {},
   "source": [
    "Распределение длин одинаково для тренировочной и валидационной выборок и схоже с колоколом распределения Пуассона.  \n",
    "Примечательно, что средняя длина в обоих наборах данных почти совпадает."
   ]
  },
  {
   "cell_type": "markdown",
   "id": "b794accb-ecec-491b-a0dc-b3fccf0fea03",
   "metadata": {},
   "source": [
    "#### i2b2 2006"
   ]
  },
  {
   "cell_type": "code",
   "execution_count": 11,
   "id": "b13612f6-b1f1-48a7-a4f1-60909c75a790",
   "metadata": {
    "ExecuteTime": {
     "end_time": "2024-04-10T19:21:43.979870Z",
     "start_time": "2024-04-10T19:21:38.411202Z"
    }
   },
   "outputs": [],
   "source": [
    "data_config = yaml.load(open(\"configs/i2b2-2006_data_config.yaml\", 'r'), Loader=yaml.Loader)\n",
    "data_config['eq_max_padding'] = False\n",
    "data_config['max_length'] = None\n",
    "train_dataset = get_ner_dataset(path_to_folder=data_config[\"train_data_path\"], device=\"cpu\", **data_config)\n",
    "val_dataset = get_ner_dataset(path_to_folder=data_config[\"validate_data_path\"], device=\"cpu\", **data_config)"
   ]
  },
  {
   "cell_type": "code",
   "execution_count": 12,
   "id": "da49fc18-303a-442d-a3a7-a7c3606b6698",
   "metadata": {
    "ExecuteTime": {
     "end_time": "2024-04-10T19:21:45.087539Z",
     "start_time": "2024-04-10T19:21:43.980528Z"
    }
   },
   "outputs": [],
   "source": [
    "train_df = plot_class_distribution(train_dataset, 'Тренировочная выборка')"
   ]
  },
  {
   "cell_type": "code",
   "execution_count": 13,
   "id": "df97e4e3-c36d-4bc7-aef6-999955051eac",
   "metadata": {
    "ExecuteTime": {
     "end_time": "2024-04-10T19:21:45.599780Z",
     "start_time": "2024-04-10T19:21:45.087999Z"
    }
   },
   "outputs": [],
   "source": [
    "val_df = plot_class_distribution(val_dataset, 'Тестовая выборка')"
   ]
  },
  {
   "cell_type": "markdown",
   "id": "7500f15b-001a-4123-b3ef-76c38ae5709e",
   "metadata": {},
   "source": [
    "Заметим, что около $90\\%$  токенов являются 'OTHER' и распозоваемые сущности занимают менее 10% всего текста, т.к одна пятая токенов являются техническими. Распознаваемые классы распределены более равномерно, чем в наборе данных за 2014 год, однако в нём отсутствует класс 'PROFESSION' и почти не представлен класс 'AGE' (51 токен). Среди присутсвующих самым популярным является класс 'NAME' --- $25\\%$ токенов сущностей, оставшиеся классы занимают $<21\\%$. А самым редким классом, который определён только у 714 токенов, является 'CONTACT', занимая лишь $~2\\%$ токенов.  \n",
    "Распределение классов в тренировочной и валидационной выборке совпадает. При этом обучающая выборка примерно в три раза больше тестовой."
   ]
  },
  {
   "cell_type": "code",
   "execution_count": 14,
   "id": "41c088a2-54f4-4344-b7b9-c19a92fb438b",
   "metadata": {
    "ExecuteTime": {
     "end_time": "2024-04-10T19:21:45.795842Z",
     "start_time": "2024-04-10T19:21:45.600323Z"
    }
   },
   "outputs": [],
   "source": [
    "plot_len_distribution(train_dataset)"
   ]
  },
  {
   "cell_type": "code",
   "execution_count": 15,
   "id": "1452d975-de57-4fb1-844d-11a95db8003f",
   "metadata": {
    "ExecuteTime": {
     "end_time": "2024-04-10T19:21:45.965262Z",
     "start_time": "2024-04-10T19:21:45.796423Z"
    }
   },
   "outputs": [],
   "source": [
    "plot_len_distribution(val_dataset)"
   ]
  },
  {
   "cell_type": "markdown",
   "id": "20771019-4c90-448b-85e2-63d270f7a298",
   "metadata": {},
   "source": [
    "Распределение длин текстов в тренировочной и тестовой выборках несколько отличается: если в первой наблюдаются очертания колокола Пуассоновского распределения, то во второй распределение более пологое и ближе к равномерному.  \n",
    "Стоит отметить, что средняя длина валидационных текстов на 200 токенов больше аналогичной у тренировочных."
   ]
  }
 ],
 "metadata": {
  "kernelspec": {
   "display_name": "Python 3 (ipykernel)",
   "language": "python",
   "name": "python3"
  },
  "language_info": {
   "codemirror_mode": {
    "name": "ipython",
    "version": 3
   },
   "file_extension": ".py",
   "mimetype": "text/x-python",
   "name": "python",
   "nbconvert_exporter": "python",
   "pygments_lexer": "ipython3",
   "version": "3.10.13"
  }
 },
 "nbformat": 4,
 "nbformat_minor": 5
}
