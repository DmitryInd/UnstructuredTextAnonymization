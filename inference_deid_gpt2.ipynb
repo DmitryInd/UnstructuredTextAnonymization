{
 "cells": [
  {
   "cell_type": "code",
   "execution_count": 1,
   "metadata": {
    "ExecuteTime": {
     "end_time": "2024-04-11T07:56:48.244273Z",
     "start_time": "2024-04-11T07:56:48.239625Z"
    },
    "collapsed": false,
    "jupyter": {
     "outputs_hidden": false
    }
   },
   "source": [
    "import sys\n",
    "sys.path.insert(1, \"./src\")"
   ],
   "outputs": []
  },
  {
   "cell_type": "code",
   "execution_count": 2,
   "metadata": {
    "ExecuteTime": {
     "end_time": "2024-04-11T07:56:49.991925Z",
     "start_time": "2024-04-11T07:56:48.244979Z"
    },
    "collapsed": false,
    "jupyter": {
     "outputs_hidden": false
    }
   },
   "source": [
    "from pathlib import Path\n",
    "import yaml\n",
    "import pytorch_lightning as pl\n",
    "from torch.utils.data import DataLoader\n",
    "from transformers import set_seed\n",
    "\n",
    "\n",
    "from datasets.ner_dataset import get_ner_dataset\n",
    "from models.bert_model import PretrainedBertNER\n",
    "from utils.ner_metrics import Statistics\n",
    "from utils.log_reader import TensorBoardReader\n",
    "from anonymization.gpt2_generation import GPT2GenerationAnonymization\n",
    "from models.gpt2_model import PretrainedGPT2TextInfilling\n",
    "from mask.personal_entity import MaskEntityType"
   ],
   "outputs": []
  },
  {
   "cell_type": "code",
   "execution_count": 3,
   "metadata": {
    "ExecuteTime": {
     "end_time": "2024-04-11T07:56:50.299913Z",
     "start_time": "2024-04-11T07:56:50.297206Z"
    },
    "collapsed": false,
    "jupyter": {
     "outputs_hidden": false
    }
   },
   "source": [
    "set_seed(42)"
   ],
   "outputs": []
  },
  {
   "cell_type": "code",
   "execution_count": 4,
   "metadata": {
    "ExecuteTime": {
     "end_time": "2024-04-11T07:56:51.230478Z",
     "start_time": "2024-04-11T07:56:51.227325Z"
    },
    "collapsed": false,
    "jupyter": {
     "outputs_hidden": false
    }
   },
   "source": [
    "# Data config initialisation\n",
    "i2b2_2006_data_config = yaml.load(open(\"configs/i2b2-2006_data_config.yaml\", 'r'), Loader=yaml.Loader)\n",
    "i2b2_2014_data_config = yaml.load(open(\"configs/i2b2-2014_data_config.yaml\", 'r'), Loader=yaml.Loader)"
   ],
   "outputs": []
  },
  {
   "cell_type": "code",
   "execution_count": 5,
   "metadata": {
    "ExecuteTime": {
     "end_time": "2024-04-11T07:56:53.061286Z",
     "start_time": "2024-04-11T07:56:53.058382Z"
    },
    "collapsed": false,
    "jupyter": {
     "outputs_hidden": false
    }
   },
   "source": [
    "# Model config initialisation\n",
    "bert_base_model_config = yaml.load(open(\"configs/bert-base_model_config.yaml\", 'r'), Loader=yaml.Loader)\n",
    "bert_large_model_config = yaml.load(open(\"configs/bert-large_model_config.yaml\", 'r'), Loader=yaml.Loader)"
   ],
   "outputs": []
  },
  {
   "cell_type": "code",
   "execution_count": 6,
   "metadata": {
    "ExecuteTime": {
     "end_time": "2024-04-11T07:56:54.350828Z",
     "start_time": "2024-04-11T07:56:54.346956Z"
    },
    "collapsed": false,
    "jupyter": {
     "outputs_hidden": false
    }
   },
   "source": [
    "# Anonymization config initialisation\n",
    "anon_config = yaml.load(open(\"configs/ref_book_anonymization_config.yaml\", 'r'), Loader=yaml.Loader)\n",
    "anon_gpt2_config = yaml.load(open(\"configs/gpt2_anonymization_config.yaml\", 'r'), Loader=yaml.Loader)"
   ],
   "outputs": []
  },
  {
   "cell_type": "code",
   "execution_count": 7,
   "metadata": {},
   "source": [
    "anon_gpt2_config[\"model_version\"] = 16\n",
    "bert_large_model_config[\"model_version\"] = 9"
   ],
   "outputs": []
  },
  {
   "cell_type": "markdown",
   "metadata": {},
   "source": [
    "### Структура сохранённых моделей:\n",
    "1. В ```./bert-base/lightning_logs/``` должны храниться модели, основанные на базовом предобученном BERT\n",
    "    1. Version 0 --- обученная на нетронутом тренировочном наборе данных i2b2 2006 с учётом регистра\n",
    "    2. Version 1 --- обученная на нетронутом тренировочном наборе данных i2b2 2006 без учёта регистра\n",
    "    3. Version 2 --- обученная на нетронутом тренировочном наборе данных i2b2 2014 с учётом регистра\n",
    "    4. Version 3 --- обученная на нетронутом тренировочном наборе данных i2b2 2014 без учёта регистра\n",
    "2. В ```./bert-large/lightning_logs/``` должны храниться модели, основанные на большом предобученном BERT\n",
    "    1. Version 0 --- обученная на нетронутом тренировочном наборе данных i2b2 2006 с учётом регистра\n",
    "    2. Version 1 --- обученная на нетронутом тренировочном наборе данных i2b2 2006 без учёта регистра\n",
    "    3. Version 2 --- обученная на нетронутом тренировочном наборе данных i2b2 2014 с учётом регистра\n",
    "    4. Version 3 --- обученная на нетронутом тренировочном наборе данных i2b2 2014 без учёта регистра\n",
    "    5. Version 4 --- обученная на анонимизированном с помощью справочников наборе данных i2b2 2014 без учёта регистра\n",
    "    6. Version 5 --- обученная на анонимизированном с помощью GPT2 валидационном наборе данных i2b2 2014 без учёта регистра, (11) GPT2 обучено на тренировочном наборе данных i2b2 2014 \n",
    "    7. Version 6 --- обученная на анонимизированном с помощью GPT2 тренировочном наборе данных i2b2 2006 без учёта регистра, (11) GPT2 обучено на тренировочном наборе данных i2b2 2014 \n",
    "    8. Version 7 --- обученная на нетронутом валидационном наборе данных i2b2 2014 без учёта регистра\n",
    "    9. Version 8 --- обученная на анонимизированном с помощью GPT2 тренировочном наборе данных i2b2 2006 без учёта регистра, (12) GPT2 со второй головой, определяющей тип генерации, обучено на тренировочном наборе данных i2b2 2014\n",
    "    10. Version 8 --- обученная на анонимизированном с помощью GPT2 валидационном наборе данных i2b2 2014 без учёта регистра, (12) GPT2 со второй головой, определяющей тип генерации, обучено на тренировочном наборе данных i2b2 2014"
   ]
  },
  {
   "cell_type": "markdown",
   "metadata": {
    "tags": []
   },
   "source": [
    "### Этап 1: Демонстрация качества искусственных примеров личных сущностей\n",
    "Правдоподобность искусственных примеров будет оцениваться по метрикам их определения лучшей NER моделью --- BERT-large-uncased, дообученной на i2b2 2014"
   ]
  },
  {
   "cell_type": "code",
   "execution_count": 8,
   "metadata": {
    "ExecuteTime": {
     "end_time": "2024-04-11T07:56:59.925867Z",
     "start_time": "2024-04-11T07:56:58.236004Z"
    },
    "collapsed": false,
    "jupyter": {
     "outputs_hidden": false
    }
   },
   "source": [
    "# Инициализация алгоритма генерации искусственных сущностей на основе справочника\n",
    "model_reader = TensorBoardReader(Path(anon_gpt2_config[\"log_dir\"]) / Path(\"lightning_logs\"))\n",
    "path_to_checkpoint = model_reader.get_ckpt_path(anon_gpt2_config[\"model_version\"])\n",
    "text_infill_model = PretrainedGPT2TextInfilling.load_from_checkpoint(path_to_checkpoint, strict=False).to(\"cuda:0\")\n",
    "text_infill_model.eval()\n",
    "anonymization = GPT2GenerationAnonymization(text_infill_model,\n",
    "                                            label2type=lambda x: MaskEntityType[x.upper()],\n",
    "                                            mask_types=list(MaskEntityType), **anon_gpt2_config)"
   ],
   "outputs": []
  },
  {
   "cell_type": "code",
   "execution_count": 9,
   "metadata": {
    "ExecuteTime": {
     "end_time": "2024-04-11T08:05:07.890468Z",
     "start_time": "2024-04-11T07:56:59.973246Z"
    }
   },
   "source": [
    "# Инициализация обезличенного тестового датасета\n",
    "test_dataset = get_ner_dataset(path_to_folder=i2b2_2014_data_config[\"validate_data_path\"], \n",
    "                               anonymization=anonymization, device='cpu',\n",
    "                               **i2b2_2014_data_config)\n",
    "test_dataloader = DataLoader(test_dataset, shuffle=False,\n",
    "                             batch_size=i2b2_2014_data_config[\"batch_size\"],\n",
    "                             collate_fn=test_dataset.get_collate_fn(),\n",
    "                             num_workers=10,\n",
    "                             pin_memory=False,\n",
    "                             persistent_workers=True)"
   ],
   "outputs": []
  },
  {
   "cell_type": "code",
   "execution_count": 10,
   "metadata": {
    "ExecuteTime": {
     "end_time": "2024-04-11T08:05:10.518311Z",
     "start_time": "2024-04-11T08:05:07.891327Z"
    }
   },
   "source": [
    "# Инициализация модели\n",
    "t_reader = TensorBoardReader(Path(bert_large_model_config[\"log_dir\"]) / Path(\"lightning_logs\"))\n",
    "ner_model = PretrainedBertNER.load_from_checkpoint(t_reader.get_ckpt_path(3))"
   ],
   "outputs": []
  },
  {
   "cell_type": "code",
   "execution_count": 11,
   "metadata": {
    "ExecuteTime": {
     "end_time": "2024-04-11T08:05:53.979930Z",
     "start_time": "2024-04-11T08:05:10.519152Z"
    }
   },
   "source": [
    "# Тестирование\n",
    "trainer_args = {\n",
    "    \"accelerator\": \"gpu\",\n",
    "    \"logger\": False\n",
    "}\n",
    "trainer = pl.Trainer(**trainer_args, enable_progress_bar=True)\n",
    "trainer.test(ner_model, test_dataloader)"
   ],
   "outputs": []
  },
  {
   "cell_type": "code",
   "execution_count": 12,
   "metadata": {
    "ExecuteTime": {
     "end_time": "2024-04-11T08:06:40.740199Z",
     "start_time": "2024-04-11T08:05:53.980684Z"
    }
   },
   "source": [
    "# Метрики\n",
    "stats = Statistics(ner_model, test_dataloader)\n",
    "print(stats.get_classification_report())\n",
    "stats.plot_confusion_matrix()\n",
    "stats.print_random_failed_predictions()"
   ],
   "outputs": []
  },
  {
   "cell_type": "code",
   "execution_count": 13,
   "metadata": {},
   "source": [
    "# import importlib\n",
    "# ner_metrics = importlib.import_module('utils.ner_metrics')\n",
    "# ner_metrics = importlib.reload(ner_metrics)"
   ],
   "outputs": []
  },
  {
   "cell_type": "code",
   "execution_count": 14,
   "metadata": {
    "ExecuteTime": {
     "end_time": "2024-04-08T22:04:26.924984Z",
     "start_time": "2024-04-08T22:04:26.877328Z"
    },
    "scrolled": true
   },
   "source": [
    "stats.get_specific_failed_predictions('LOCATION')"
   ],
   "outputs": []
  },
  {
   "cell_type": "code",
   "execution_count": 15,
   "metadata": {
    "ExecuteTime": {
     "end_time": "2024-04-09T05:38:45.078855Z",
     "start_time": "2024-04-09T05:38:45.008637Z"
    },
    "scrolled": true
   },
   "source": [
    "stats.get_specific_failed_predictions('CONTACT')"
   ],
   "outputs": []
  },
  {
   "cell_type": "markdown",
   "metadata": {},
   "source": [
    "**Вывод:**  \n",
    "В целом все метки предсказываются с точностью, близкой к аналогичной у первоначальных сущностей. Самое низкое качество распознавания у модели оказалось для класса 'LOCATION', предположительно, из-за слишком длинных названий больниц в используемом справочнике. Однако в первых версиях генератора синтетических данных присутствовали проблемы с меткой 'CONTACT'. Основная трудность для модели заключалась в предсказании номеров телефонов, если их генерация использовала российский стиль их написания. Тогда модель определяла его, как уникальный идентификатор. Проблема была решена сменной формата номера.  \n",
    "  \n",
    "Как видно, в оригинальных данных не используется код страны, и цифры сгруппированы отлично от распространённого российского варианта.  \n",
    "Запись **347-03**  \n",
    "Original:  (121) 537-3484  \n",
    "Russian format: +1 933 257-12-32  \n",
    "Запись **314-02**  \n",
    "Original:  (676) 312-7662  \n",
    "Russian format: +1 995 672-52-24  \n",
    "  \n",
    "Ещё один вариант записи номера телефона в оригинальных данных: \"665-578-7821\""
   ]
  },
  {
   "cell_type": "markdown",
   "metadata": {
    "tags": []
   },
   "source": [
    "### Этап 2: Обучение NER на анонимизированных с помощью ILM данных из того же набора"
   ]
  },
  {
   "cell_type": "code",
   "execution_count": 7,
   "metadata": {
    "ExecuteTime": {
     "end_time": "2024-04-08T22:04:27.151848Z",
     "start_time": "2024-04-08T22:04:26.925451Z"
    }
   },
   "source": [
    "t_reader = TensorBoardReader(Path(bert_large_model_config[\"log_dir\"]) / Path(\"lightning_logs\"))\n",
    "t_reader.plot_ner_tensorboard_graphics(bert_large_model_config[\"model_version\"])"
   ],
   "outputs": []
  },
  {
   "cell_type": "markdown",
   "metadata": {},
   "source": [
    "Из обучения взята модель с лучшим показателем в метрике recall без учёта класса 'other'. Посмотрим на её метрики на валидационных данных."
   ]
  },
  {
   "cell_type": "code",
   "execution_count": 8,
   "metadata": {
    "ExecuteTime": {
     "end_time": "2024-04-08T22:04:30.861221Z",
     "start_time": "2024-04-08T22:04:27.152421Z"
    },
    "scrolled": true
   },
   "source": [
    "# Data processing\n",
    "test_dataset = get_ner_dataset(path_to_folder=i2b2_2014_data_config[\"train_data_path\"], device='cpu', **i2b2_2014_data_config)\n",
    "test_dataloader = DataLoader(test_dataset, shuffle=False,\n",
    "                             batch_size=i2b2_2014_data_config[\"batch_size\"],\n",
    "                             collate_fn=test_dataset.get_collate_fn(),\n",
    "                             num_workers=10,\n",
    "                             pin_memory=False,\n",
    "                             persistent_workers=True)"
   ],
   "outputs": []
  },
  {
   "cell_type": "code",
   "execution_count": 9,
   "metadata": {
    "ExecuteTime": {
     "end_time": "2024-04-08T22:04:32.462040Z",
     "start_time": "2024-04-08T22:04:30.862003Z"
    },
    "collapsed": false,
    "jupyter": {
     "outputs_hidden": false
    }
   },
   "source": [
    "# Model initialisation\n",
    "path_to_checkpoint = t_reader.get_ckpt_path(bert_large_model_config[\"model_version\"])\n",
    "ner_model = PretrainedBertNER.load_from_checkpoint(path_to_checkpoint)\n",
    "print(ner_model)"
   ],
   "outputs": []
  },
  {
   "cell_type": "code",
   "execution_count": 10,
   "metadata": {
    "ExecuteTime": {
     "end_time": "2024-04-08T22:05:01.752560Z",
     "start_time": "2024-04-08T22:04:32.462583Z"
    },
    "collapsed": false,
    "jupyter": {
     "outputs_hidden": false
    }
   },
   "source": [
    "# Testing\n",
    "trainer_args = {\n",
    "    \"accelerator\": \"gpu\",\n",
    "    \"logger\": False\n",
    "}\n",
    "trainer = pl.Trainer(**trainer_args, enable_progress_bar=True)\n",
    "trainer.test(ner_model, test_dataloader)"
   ],
   "outputs": []
  },
  {
   "cell_type": "code",
   "execution_count": 11,
   "metadata": {
    "ExecuteTime": {
     "end_time": "2024-04-08T22:05:34.744820Z",
     "start_time": "2024-04-08T22:05:01.753338Z"
    },
    "collapsed": false,
    "jupyter": {
     "outputs_hidden": false
    }
   },
   "source": [
    "# Print metrics\n",
    "stats = Statistics(ner_model, test_dataloader)\n",
    "print(stats.get_classification_report())\n",
    "stats.plot_confusion_matrix()\n",
    "stats.print_random_failed_predictions()"
   ],
   "outputs": []
  },
  {
   "cell_type": "code",
   "execution_count": 12,
   "metadata": {
    "ExecuteTime": {
     "end_time": "2024-04-09T05:34:03.639133Z",
     "start_time": "2024-04-09T05:34:03.564805Z"
    },
    "scrolled": true
   },
   "source": [
    "stats.get_specific_failed_predictions('PROFESSION')"
   ],
   "outputs": []
  },
  {
   "cell_type": "code",
   "execution_count": 13,
   "metadata": {
    "ExecuteTime": {
     "end_time": "2024-04-09T05:35:49.318218Z",
     "start_time": "2024-04-09T05:35:49.240444Z"
    },
    "scrolled": true
   },
   "source": [
    "stats.get_specific_failed_predictions('CONTACT')"
   ],
   "outputs": []
  },
  {
   "cell_type": "markdown",
   "metadata": {},
   "source": [
    "**Вывод:**  \n",
    "Заметим, что из-за малого разнообразия формата данных наблюдается переобучение модели после $6$-ой эпохи. Также общее качество работы модели заметно уменьшилось до Recall $=78.71\\%$. При этом модель часто принимала класс 'ID' за 'CONTACT', так как искусственно сгенерированные идентификаторы представляют собой непрерываемый поток цифр. Самое же большое падение качества наблюдается в распознавании идентификаторов и имён. Приведём примеры их ошибок, связанных в основном с малым количеством форматов у синтетических данных:"
   ]
  },
  {
   "cell_type": "markdown",
   "metadata": {},
   "source": [
    "### Этап 3: Обучение NER на анонимизированных с помошью ILM данных из другого набора в том же домене"
   ]
  },
  {
   "cell_type": "code",
   "execution_count": 15,
   "metadata": {
    "ExecuteTime": {
     "end_time": "2024-04-08T22:04:30.861221Z",
     "start_time": "2024-04-08T22:04:27.152421Z"
    },
    "scrolled": true
   },
   "source": [
    "# Data processing\n",
    "test_dataset = get_ner_dataset(path_to_folder=i2b2_2006_data_config[\"validate_data_path\"], device='cpu', **i2b2_2006_data_config)\n",
    "test_dataloader = DataLoader(test_dataset, shuffle=False,\n",
    "                             batch_size=i2b2_2006_data_config[\"batch_size\"],\n",
    "                             collate_fn=test_dataset.get_collate_fn(),\n",
    "                             num_workers=10,\n",
    "                             pin_memory=False,\n",
    "                             persistent_workers=True)"
   ],
   "outputs": []
  },
  {
   "cell_type": "code",
   "execution_count": 17,
   "metadata": {
    "ExecuteTime": {
     "end_time": "2024-04-08T22:05:01.752560Z",
     "start_time": "2024-04-08T22:04:32.462583Z"
    },
    "collapsed": false,
    "jupyter": {
     "outputs_hidden": false
    }
   },
   "source": [
    "# Testing\n",
    "trainer_args = {\n",
    "    \"accelerator\": \"gpu\",\n",
    "    \"logger\": False\n",
    "}\n",
    "trainer = pl.Trainer(**trainer_args, enable_progress_bar=True)\n",
    "trainer.test(ner_model, test_dataloader)"
   ],
   "outputs": []
  },
  {
   "cell_type": "code",
   "execution_count": 18,
   "metadata": {
    "ExecuteTime": {
     "end_time": "2024-04-08T22:05:34.744820Z",
     "start_time": "2024-04-08T22:05:01.753338Z"
    },
    "collapsed": false,
    "jupyter": {
     "outputs_hidden": false
    }
   },
   "source": [
    "# Print metrics\n",
    "stats = Statistics(ner_model, test_dataloader)\n",
    "print(stats.get_classification_report())\n",
    "stats.plot_confusion_matrix()\n",
    "stats.print_random_failed_predictions()"
   ],
   "outputs": []
  },
  {
   "cell_type": "code",
   "execution_count": 19,
   "metadata": {
    "ExecuteTime": {
     "end_time": "2024-04-09T05:34:03.639133Z",
     "start_time": "2024-04-09T05:34:03.564805Z"
    },
    "scrolled": true
   },
   "source": [
    "stats.get_specific_failed_predictions('LOCATION')"
   ],
   "outputs": []
  },
  {
   "cell_type": "code",
   "execution_count": 20,
   "metadata": {
    "ExecuteTime": {
     "end_time": "2024-04-09T05:35:49.318218Z",
     "start_time": "2024-04-09T05:35:49.240444Z"
    },
    "scrolled": true
   },
   "source": [
    "stats.get_specific_failed_predictions('ID')"
   ],
   "outputs": []
  },
  {
   "cell_type": "markdown",
   "metadata": {},
   "source": [
    "**Вывод:**  \n",
    "Заметим, что из-за малого разнообразия формата данных наблюдается переобучение модели после $6$-ой эпохи. Также общее качество работы модели заметно уменьшилось до Recall $=78.71\\%$. При этом модель часто принимала класс 'ID' за 'CONTACT', так как искусственно сгенерированные идентификаторы представляют собой непрерываемый поток цифр. Самое же большое падение качества наблюдается в распознавании идентификаторов и имён. Приведём примеры их ошибок, связанных в основном с малым количеством форматов у синтетических данных:"
   ]
  }
 ],
 "metadata": {
  "kernelspec": {
   "display_name": "Python 3 (ipykernel)",
   "language": "python",
   "name": "python3"
  },
  "language_info": {
   "codemirror_mode": {
    "name": "ipython",
    "version": 3
   },
   "file_extension": ".py",
   "mimetype": "text/x-python",
   "name": "python",
   "nbconvert_exporter": "python",
   "pygments_lexer": "ipython3",
   "version": "3.10.13"
  },
  "toc-showtags": false
 },
 "nbformat": 4,
 "nbformat_minor": 4
}
